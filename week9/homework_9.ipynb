{
 "cells": [
  {
   "cell_type": "markdown",
   "source": [
    "## Homework\n",
    "\n",
    "In this homework, we'll deploy the dino or dragon model we trained in the\n",
    "[previous homework](https://github.com/alexeygrigorev/mlbookcamp-code/blob/master/course-zoomcamp/cohorts/2022/08-deep-learning/homework.md).\n",
    "\n",
    "Download the model from here:\n",
    "\n",
    "https://github.com/SVizor42/ML_Zoomcamp/releases/download/dino-dragon-model/dino_dragon_10_0.899.h5\n",
    "\n"
   ],
   "metadata": {
    "collapsed": false
   },
   "outputs": []
  },
  {
   "cell_type": "markdown",
   "source": [
    "In tetminal use this > python -m wget -o model_dino_dragon.h5 https://github.com/SVizor42/ML_Zoomcamp/releases/download/dino-dragon-model/dino_dragon\n",
    "_10_0.899.h5\n"
   ],
   "metadata": {
    "collapsed": false
   }
  },
  {
   "cell_type": "code",
   "execution_count": 1,
   "outputs": [],
   "source": [
    "# !wget https://github.com/SVizor42/ML_Zoomcamp/releases/download/dino-dragon-model/dino_dragon_10_0.899.h5 -O model_dino_dragon.h5"
   ],
   "metadata": {
    "collapsed": false
   }
  },
  {
   "cell_type": "code",
   "execution_count": 2,
   "outputs": [
    {
     "data": {
      "text/plain": "'2.11.0'"
     },
     "execution_count": 2,
     "metadata": {},
     "output_type": "execute_result"
    }
   ],
   "source": [
    "import numpy as np\n",
    "\n",
    "import tensorflow as tf\n",
    "from tensorflow import keras\n",
    "\n",
    "tf.__version__"
   ],
   "metadata": {
    "collapsed": false
   }
  },
  {
   "cell_type": "markdown",
   "source": [
    "## Question 1\n",
    "\n",
    "Now convert this model from Keras to TF-Lite format.\n",
    "\n",
    "What's the size of the **converted** model?\n",
    "\n",
    "* 21 Mb\n",
    "* 43 Mb\n",
    "* 80 Mb\n",
    "* 164 Mb\n",
    "\n"
   ],
   "metadata": {
    "collapsed": false
   },
   "outputs": []
  },
  {
   "cell_type": "markdown",
   "source": [
    "answer: 43 Mb"
   ],
   "metadata": {
    "collapsed": false
   }
  },
  {
   "cell_type": "code",
   "execution_count": 3,
   "outputs": [],
   "source": [
    "model = keras.models.load_model('model_dino_dragon.h5')"
   ],
   "metadata": {
    "collapsed": false
   }
  },
  {
   "cell_type": "code",
   "execution_count": 4,
   "outputs": [
    {
     "name": "stderr",
     "output_type": "stream",
     "text": [
      "WARNING:absl:Found untraced functions such as _jit_compiled_convolution_op while saving (showing 1 of 1). These functions will not be directly callable after loading.\n"
     ]
    },
    {
     "name": "stdout",
     "output_type": "stream",
     "text": [
      "INFO:tensorflow:Assets written to: C:\\Users\\DS_PC\\AppData\\Local\\Temp\\tmpvhi8w8zt\\assets\n"
     ]
    },
    {
     "name": "stderr",
     "output_type": "stream",
     "text": [
      "INFO:tensorflow:Assets written to: C:\\Users\\DS_PC\\AppData\\Local\\Temp\\tmpvhi8w8zt\\assets\n"
     ]
    }
   ],
   "source": [
    "# convert keras to TF-Lite\n",
    "converter = tf.lite.TFLiteConverter.from_keras_model(model)\n",
    "\n",
    "tflite_model = converter.convert()"
   ],
   "metadata": {
    "collapsed": false
   }
  },
  {
   "cell_type": "code",
   "execution_count": 5,
   "outputs": [],
   "source": [
    "with open('model_dino_dragon.tflite', 'wb') as f_out:\n",
    "    f_out.write(tflite_model)"
   ],
   "metadata": {
    "collapsed": false
   }
  },
  {
   "cell_type": "code",
   "execution_count": 6,
   "outputs": [
    {
     "name": "stdout",
     "output_type": "stream",
     "text": [
      "total 129M\n",
      "drwxr-xr-x 1 DS_PC 197121    0 Nov 26 17:15 __pycache__\n",
      "-rw-r--r-- 1 DS_PC 197121  292 Nov 26 11:44 Dockerfile\n",
      "-rw-r--r-- 1 DS_PC 197121  16K Nov 28 14:50 homework_9.ipynb\n",
      "-rw-r--r-- 1 DS_PC 197121 1.4K Nov 26 17:01 lambda_function.py\n",
      "-rw-r--r-- 1 DS_PC 197121  86M Nov 22 18:44 model_dino_dragon.h5\n",
      "-rw-r--r-- 1 DS_PC 197121  43M Nov 28 14:50 model_dino_dragon.tflite\n",
      "-rw-r--r-- 1 DS_PC 197121 9.0K Nov 26 17:16 test.ipynb\n",
      "-rw-r--r-- 1 DS_PC 197121  264 Nov 26 17:12 test.py\n"
     ]
    }
   ],
   "source": [
    "!ls -lh"
   ],
   "metadata": {
    "collapsed": false
   }
  },
  {
   "cell_type": "markdown",
   "source": [
    "## Question 2\n",
    "\n",
    "To be able to use this model, we need to know the index of the input and\n",
    "the index of the output.\n",
    "\n",
    "What's the output index for this model?\n",
    "\n",
    "* 3\n",
    "* 7\n",
    "* 13\n",
    "* 24\n",
    "\n"
   ],
   "metadata": {
    "collapsed": false
   },
   "outputs": []
  },
  {
   "cell_type": "markdown",
   "source": [
    "answer: 13"
   ],
   "metadata": {
    "collapsed": false
   }
  },
  {
   "cell_type": "code",
   "execution_count": 7,
   "outputs": [],
   "source": [
    "import tensorflow.lite as tflite"
   ],
   "metadata": {
    "collapsed": false
   }
  },
  {
   "cell_type": "code",
   "execution_count": 8,
   "outputs": [],
   "source": [
    "interpreter = tflite.Interpreter(model_path='model_dino_dragon.tflite')\n",
    "interpreter.allocate_tensors()  # download wights"
   ],
   "metadata": {
    "collapsed": false
   }
  },
  {
   "cell_type": "code",
   "execution_count": 9,
   "outputs": [
    {
     "data": {
      "text/plain": "[{'name': 'serving_default_conv2d_input:0',\n  'index': 0,\n  'shape': array([  1, 150, 150,   3]),\n  'shape_signature': array([ -1, 150, 150,   3]),\n  'dtype': numpy.float32,\n  'quantization': (0.0, 0),\n  'quantization_parameters': {'scales': array([], dtype=float32),\n   'zero_points': array([], dtype=int32),\n   'quantized_dimension': 0},\n  'sparsity_parameters': {}}]"
     },
     "execution_count": 9,
     "metadata": {},
     "output_type": "execute_result"
    }
   ],
   "source": [
    "interpreter.get_input_details()"
   ],
   "metadata": {
    "collapsed": false
   }
  },
  {
   "cell_type": "code",
   "execution_count": 10,
   "outputs": [],
   "source": [
    "input_index = interpreter.get_input_details()[0]['index']"
   ],
   "metadata": {
    "collapsed": false
   }
  },
  {
   "cell_type": "code",
   "execution_count": 11,
   "outputs": [
    {
     "data": {
      "text/plain": "[{'name': 'StatefulPartitionedCall:0',\n  'index': 13,\n  'shape': array([1, 1]),\n  'shape_signature': array([-1,  1]),\n  'dtype': numpy.float32,\n  'quantization': (0.0, 0),\n  'quantization_parameters': {'scales': array([], dtype=float32),\n   'zero_points': array([], dtype=int32),\n   'quantized_dimension': 0},\n  'sparsity_parameters': {}}]"
     },
     "execution_count": 11,
     "metadata": {},
     "output_type": "execute_result"
    }
   ],
   "source": [
    "interpreter.get_output_details()"
   ],
   "metadata": {
    "collapsed": false
   }
  },
  {
   "cell_type": "code",
   "execution_count": 12,
   "outputs": [],
   "source": [
    "output_index = interpreter.get_output_details()[0]['index']"
   ],
   "metadata": {
    "collapsed": false
   }
  },
  {
   "cell_type": "markdown",
   "source": [
    "## Preparing the image\n",
    "\n",
    "You'll need some code for downloading and resizing images. You can use\n",
    "this code:\n"
   ],
   "metadata": {
    "collapsed": false
   },
   "outputs": []
  },
  {
   "cell_type": "code",
   "execution_count": 13,
   "outputs": [],
   "source": [
    "from io import BytesIO\n",
    "from urllib import request\n",
    "\n",
    "from PIL import Image\n",
    "\n",
    "\n",
    "def download_image(url):\n",
    "    with request.urlopen(url) as resp:\n",
    "        buffer = resp.read()\n",
    "    stream = BytesIO(buffer)\n",
    "    img = Image.open(stream)\n",
    "    return img\n",
    "\n",
    "\n",
    "def prepare_image(img, target_size):\n",
    "    if img.mode != 'RGB':\n",
    "        img = img.convert('RGB')\n",
    "    img = img.resize(target_size, Image.NEAREST)\n",
    "    return img"
   ],
   "metadata": {
    "collapsed": false
   }
  },
  {
   "cell_type": "markdown",
   "source": [
    "```\n",
    "\n",
    "For that, you'll need to have `pillow` installed:\n",
    "\n",
    "```bash\n",
    "pip install pillow\n",
    "```\n",
    "\n",
    "Let's download and resize this image:\n",
    "\n",
    "https://upload.wikimedia.org/wikipedia/commons/thumb/d/df/Smaug_par_David_Demaret.jpg/1280px-Smaug_par_David_Demaret.jpg\n",
    "\n",
    "Based on the previous homework, what should be the target size for the image?\n",
    "\n"
   ],
   "metadata": {
    "collapsed": false
   }
  },
  {
   "cell_type": "markdown",
   "source": [
    "target size must be 150, 150"
   ],
   "metadata": {
    "collapsed": false
   }
  },
  {
   "cell_type": "code",
   "execution_count": 14,
   "outputs": [],
   "source": [
    "url = \"https://upload.wikimedia.org/wikipedia/commons/thumb/d/df/Smaug_par_David_Demaret.jpg/1280px-Smaug_par_David_Demaret.jpg\"\n",
    "img = download_image(url)"
   ],
   "metadata": {
    "collapsed": false
   }
  },
  {
   "cell_type": "code",
   "execution_count": 15,
   "outputs": [
    {
     "name": "stderr",
     "output_type": "stream",
     "text": [
      "C:\\Users\\DS_PC\\AppData\\Local\\Temp\\ipykernel_2720\\2218159536.py:18: DeprecationWarning: NEAREST is deprecated and will be removed in Pillow 10 (2023-07-01). Use Resampling.NEAREST or Dither.NONE instead.\n",
      "  img = img.resize(target_size, Image.NEAREST)\n"
     ]
    }
   ],
   "source": [
    "img = prepare_image(img, (150, 150))"
   ],
   "metadata": {
    "collapsed": false
   }
  },
  {
   "cell_type": "markdown",
   "source": [
    "## Question 3\n",
    "\n",
    "Now we need to turn the image into numpy array and pre-process it.\n",
    "\n",
    "> Tip: Check the previous homework. What was the pre-processing\n",
    "> we did there?\n",
    "\n",
    "After the pre-processing, what's the value in the first pixel, the R channel?\n",
    "\n",
    "* 0.3353411\n",
    "* 0.5529412\n",
    "* 0.7458824\n",
    "* 0.9654902\n",
    "\n"
   ],
   "metadata": {
    "collapsed": false
   }
  },
  {
   "cell_type": "markdown",
   "source": [
    "answer: 0.5529412"
   ],
   "metadata": {
    "collapsed": false
   }
  },
  {
   "cell_type": "code",
   "execution_count": 16,
   "outputs": [],
   "source": [
    "x = np.array(img)\n",
    "X = np.array([x])\n",
    "X_r = np.float32(X / 255.0)"
   ],
   "metadata": {
    "collapsed": false
   }
  },
  {
   "cell_type": "code",
   "execution_count": 17,
   "outputs": [
    {
     "data": {
      "text/plain": "0.5529412"
     },
     "execution_count": 17,
     "metadata": {},
     "output_type": "execute_result"
    }
   ],
   "source": [
    "X_r[0][0][0][0]"
   ],
   "metadata": {
    "collapsed": false
   }
  },
  {
   "cell_type": "markdown",
   "source": [],
   "metadata": {
    "collapsed": false
   }
  },
  {
   "cell_type": "markdown",
   "source": [
    "## Question 4\n",
    "\n",
    "Now let's apply this model to this image. What's the output of the model?\n",
    "\n",
    "* 0.17049132\n",
    "* 0.39009996\n",
    "* 0.60146114\n",
    "* 0.82448614\n",
    "\n"
   ],
   "metadata": {
    "collapsed": false
   },
   "outputs": []
  },
  {
   "cell_type": "code",
   "execution_count": 18,
   "outputs": [],
   "source": [
    "answer: 0.82448614"
   ],
   "metadata": {
    "collapsed": false
   }
  },
  {
   "cell_type": "code",
   "execution_count": 19,
   "outputs": [],
   "source": [
    "interpreter.set_tensor(input_index, X_r)"
   ],
   "metadata": {
    "collapsed": false
   }
  },
  {
   "cell_type": "code",
   "execution_count": 20,
   "outputs": [
    {
     "data": {
      "text/plain": "array([[0.82448614]], dtype=float32)"
     },
     "execution_count": 20,
     "metadata": {},
     "output_type": "execute_result"
    }
   ],
   "source": [
    "interpreter.invoke()\n",
    "interpreter.get_tensor(output_index)"
   ],
   "metadata": {
    "collapsed": false
   }
  },
  {
   "cell_type": "code",
   "execution_count": 21,
   "outputs": [],
   "source": [
    "preds = interpreter.get_tensor(output_index)"
   ],
   "metadata": {
    "collapsed": false
   }
  },
  {
   "cell_type": "markdown",
   "source": [
    "## Prepare the lambda code\n",
    "\n",
    "Now you need to copy all the code into a separate python file. You will\n",
    "need to use this file for the next two questions.\n",
    "\n",
    "    '$ jupyter nbconvert --to script [YOUR_NOTEBOOK].ipynb'\n",
    "\n",
    "Tip: you can test this file locally with `ipython` or Jupyter Notebook\n",
    "by importing the file and invoking the function from this file.\n",
    "\n"
   ],
   "metadata": {
    "collapsed": false
   },
   "outputs": []
  },
  {
   "cell_type": "markdown",
   "source": [
    "## Docker\n",
    "\n",
    "For the next two questions, we'll use a Docker image that we already\n",
    "prepared. This is the Dockerfile that we used for creating the image:\n",
    "\n",
    "```docker\n",
    "FROM public.ecr.aws/lambda/python:3.9\n",
    "COPY dino-vs-dragon-v2.tflite .\n",
    "```\n",
    "\n",
    "And pushed it to [`svizor42/zoomcamp-dino-dragon-lambda:v2`](https://hub.docker.com/r/svizor42/zoomcamp-dino-dragon-lambda/tags).\n",
    "\n",
    "\n",
    "> Note: The image already contains a model and it's not the same model\n",
    "> as the one we used for questions 1-4.\n",
    "\n"
   ],
   "metadata": {
    "collapsed": false
   },
   "outputs": []
  },
  {
   "cell_type": "markdown",
   "source": [
    "## Question 5\n",
    "\n",
    "Download the base image `svizor42/zoomcamp-dino-dragon-lambda:v2`. You can easily make it by using [docker pull](https://docs.docker.com/engine/reference/commandline/pull/) command.\n",
    "\n",
    "So what's the size of this base image?\n",
    "\n",
    "* 139 Mb\n",
    "* 329 Mb\n",
    "* 639 Mb\n",
    "* 929 Mb\n",
    "\n",
    "You can get this information when running `docker images` - it'll be in the \"SIZE\" column.\n",
    "\n"
   ],
   "metadata": {
    "collapsed": false
   }
  },
  {
   "cell_type": "code",
   "execution_count": 22,
   "outputs": [
    {
     "name": "stdout",
     "output_type": "stream",
     "text": [
      "REPOSITORY                              TAG          IMAGE ID       CREATED       SIZE\n",
      "tf-lite-lambda                          3.9-v2.6.2   17315431e723   2 days ago    735MB\n",
      "dino_vs_dragon                          latest       c626b0c8bf0e   2 days ago    735MB\n",
      "dino_dragon                             latest       c68bd8cf00bd   4 days ago    775MB\n",
      "svizor42/zoomcamp-dino-dragon-lambda    v2           20ef58b21a05   10 days ago   639MB\n",
      "zoomcamp-test                           latest       4755616a5ad0   2 weeks ago   1.1GB\n",
      "cr.yandex/c626b0c8bf0e/dino_vs_dragon   latest       a8780b506fa4   3 weeks ago   77.8MB\n",
      "ubuntu                                  latest       a8780b506fa4   3 weeks ago   77.8MB\n"
     ]
    }
   ],
   "source": [
    "!docker images"
   ],
   "metadata": {
    "collapsed": false
   }
  },
  {
   "cell_type": "markdown",
   "source": [
    "answer: 639MB"
   ],
   "metadata": {
    "collapsed": false
   }
  },
  {
   "cell_type": "markdown",
   "source": [],
   "metadata": {
    "collapsed": false
   }
  },
  {
   "cell_type": "markdown",
   "source": [
    "## Question 6\n",
    "\n",
    "Now let's extend this docker image, install all the required libraries\n",
    "and add the code for lambda.\n",
    "\n",
    "You don't need to include the model in the image. It's already included.\n",
    "The name of the file with the model is `dino-vs-dragon-v2.tflite` and it's\n",
    "in the current workdir in the image (see the Dockerfile above for the\n",
    "reference).\n",
    "\n",
    "Now run the container locally.\n",
    "\n",
    "Score this image: https://upload.wikimedia.org/wikipedia/en/e/e9/GodzillaEncounterModel.jpg\n",
    "\n",
    "What's the output from the model?\n",
    "\n",
    "* 0.12\n",
    "* 0.32\n",
    "* 0.52\n",
    "* 0.72\n",
    "\n"
   ],
   "metadata": {
    "collapsed": false
   },
   "outputs": []
  },
  {
   "cell_type": "code",
   "execution_count": 23,
   "outputs": [
    {
     "name": "stdout",
     "output_type": "stream",
     "text": [
      "{'url': 'https://upload.wikimedia.org/wikipedia/en/e/e9/GodzillaEncounterModel.jpg'}\n"
     ]
    },
    {
     "name": "stderr",
     "output_type": "stream",
     "text": [
      "Traceback (most recent call last):\n",
      "  File \"C:\\Users\\DS_PC\\anaconda3\\lib\\site-packages\\urllib3\\connection.py\", line 174, in _new_conn\n",
      "    conn = connection.create_connection(\n",
      "  File \"C:\\Users\\DS_PC\\anaconda3\\lib\\site-packages\\urllib3\\util\\connection.py\", line 95, in create_connection\n",
      "    raise err\n",
      "  File \"C:\\Users\\DS_PC\\anaconda3\\lib\\site-packages\\urllib3\\util\\connection.py\", line 85, in create_connection\n",
      "    sock.connect(sa)\n",
      "ConnectionRefusedError: [WinError 10061] Подключение не установлено, т.к. конечный компьютер отверг запрос на подключение\n",
      "\n",
      "During handling of the above exception, another exception occurred:\n",
      "\n",
      "Traceback (most recent call last):\n",
      "  File \"C:\\Users\\DS_PC\\anaconda3\\lib\\site-packages\\urllib3\\connectionpool.py\", line 703, in urlopen\n",
      "    httplib_response = self._make_request(\n",
      "  File \"C:\\Users\\DS_PC\\anaconda3\\lib\\site-packages\\urllib3\\connectionpool.py\", line 398, in _make_request\n",
      "    conn.request(method, url, **httplib_request_kw)\n",
      "  File \"C:\\Users\\DS_PC\\anaconda3\\lib\\site-packages\\urllib3\\connection.py\", line 239, in request\n",
      "    super(HTTPConnection, self).request(method, url, body=body, headers=headers)\n",
      "  File \"C:\\Users\\DS_PC\\anaconda3\\lib\\http\\client.py\", line 1256, in request\n",
      "    self._send_request(method, url, body, headers, encode_chunked)\n",
      "  File \"C:\\Users\\DS_PC\\anaconda3\\lib\\http\\client.py\", line 1302, in _send_request\n",
      "    self.endheaders(body, encode_chunked=encode_chunked)\n",
      "  File \"C:\\Users\\DS_PC\\anaconda3\\lib\\http\\client.py\", line 1251, in endheaders\n",
      "    self._send_output(message_body, encode_chunked=encode_chunked)\n",
      "  File \"C:\\Users\\DS_PC\\anaconda3\\lib\\http\\client.py\", line 1011, in _send_output\n",
      "    self.send(msg)\n",
      "  File \"C:\\Users\\DS_PC\\anaconda3\\lib\\http\\client.py\", line 951, in send\n",
      "    self.connect()\n",
      "  File \"C:\\Users\\DS_PC\\anaconda3\\lib\\site-packages\\urllib3\\connection.py\", line 205, in connect\n",
      "    conn = self._new_conn()\n",
      "  File \"C:\\Users\\DS_PC\\anaconda3\\lib\\site-packages\\urllib3\\connection.py\", line 186, in _new_conn\n",
      "    raise NewConnectionError(\n",
      "urllib3.exceptions.NewConnectionError: <urllib3.connection.HTTPConnection object at 0x0000013B818496D0>: Failed to establish a new connection: [WinError 10061] Подключение не установлено, т.к. конечный компьютер отверг запрос на подключение\n",
      "\n",
      "During handling of the above exception, another exception occurred:\n",
      "\n",
      "Traceback (most recent call last):\n",
      "  File \"C:\\Users\\DS_PC\\anaconda3\\lib\\site-packages\\requests\\adapters.py\", line 489, in send\n",
      "    resp = conn.urlopen(\n",
      "  File \"C:\\Users\\DS_PC\\anaconda3\\lib\\site-packages\\urllib3\\connectionpool.py\", line 787, in urlopen\n",
      "    retries = retries.increment(\n",
      "  File \"C:\\Users\\DS_PC\\anaconda3\\lib\\site-packages\\urllib3\\util\\retry.py\", line 592, in increment\n",
      "    raise MaxRetryError(_pool, url, error or ResponseError(cause))\n",
      "urllib3.exceptions.MaxRetryError: HTTPConnectionPool(host='localhost', port=8080): Max retries exceeded with url: /2015-03-31/functions/function/invocations (Caused by NewConnectionError('<urllib3.connection.HTTPConnection object at 0x0000013B818496D0>: Failed to establish a new connection: [WinError 10061] Подключение не установлено, т.к. конечный компьютер отверг запрос на подключение'))\n",
      "\n",
      "During handling of the above exception, another exception occurred:\n",
      "\n",
      "Traceback (most recent call last):\n",
      "  File \".\\test.py\", line 9, in <module>\n",
      "    result = requests.post(url, json=data).json()\n",
      "  File \"C:\\Users\\DS_PC\\anaconda3\\lib\\site-packages\\requests\\api.py\", line 115, in post\n",
      "    return request(\"post\", url, data=data, json=json, **kwargs)\n",
      "  File \"C:\\Users\\DS_PC\\anaconda3\\lib\\site-packages\\requests\\api.py\", line 59, in request\n",
      "    return session.request(method=method, url=url, **kwargs)\n",
      "  File \"C:\\Users\\DS_PC\\anaconda3\\lib\\site-packages\\requests\\sessions.py\", line 587, in request\n",
      "    resp = self.send(prep, **send_kwargs)\n",
      "  File \"C:\\Users\\DS_PC\\anaconda3\\lib\\site-packages\\requests\\sessions.py\", line 701, in send\n",
      "    r = adapter.send(request, **kwargs)\n",
      "  File \"C:\\Users\\DS_PC\\anaconda3\\lib\\site-packages\\requests\\adapters.py\", line 565, in send\n",
      "    raise ConnectionError(e, request=request)\n",
      "requests.exceptions.ConnectionError: HTTPConnectionPool(host='localhost', port=8080): Max retries exceeded with url: /2015-03-31/functions/function/invocations (Caused by NewConnectionError('<urllib3.connection.HTTPConnection object at 0x0000013B818496D0>: Failed to establish a new connection: [WinError 10061] Подключение не установлено, т.к. конечный компьютер отверг запрос на подключение'))\n"
     ]
    }
   ],
   "source": [
    "!python .\\test.py"
   ],
   "metadata": {
    "collapsed": false
   }
  },
  {
   "cell_type": "markdown",
   "source": [
    "## Publishing it to AWS\n",
    "\n",
    "Now you can deploy your model to AWS!\n",
    "\n",
    "* Publish your image to ECR\n",
    "* Create a lambda function in AWS, use the ECR image\n",
    "* Give it more RAM and increase the timeout\n",
    "* Test it\n",
    "* Expose the lambda function using API Gateway\n",
    "\n",
    "This is optional and not graded.\n",
    "\n"
   ],
   "metadata": {
    "collapsed": false
   },
   "outputs": []
  },
  {
   "cell_type": "markdown",
   "source": [
    "## Publishing to Docker hub\n",
    "\n",
    "This is just for reference, this is how we published our image to Docker hub:\n",
    "\n",
    "```bash\n",
    "docker build -t zoomcamp-dino-dragon-lambda .\n",
    "docker tag zoomcamp-dino-dragon-lambda:latest svizor42/zoomcamp-dino-dragon-lambda:v2\n",
    "docker push svizor42/zoomcamp-dino-dragon-lambda:v2\n",
    "```\n",
    "\n"
   ],
   "metadata": {
    "collapsed": false
   },
   "outputs": []
  },
  {
   "cell_type": "markdown",
   "source": [
    "## Submit the results\n",
    "\n",
    "* Submit your results here: https://forms.gle/Pnx563ELg9jgjxHX6\n",
    "* You can submit your solution multiple times. In this case, only the last submission will be used\n",
    "* If your answer doesn't match options exactly, select the closest one\n",
    "\n",
    "\n",
    "## Deadline\n",
    "\n",
    "The deadline for submitting is **28 November 2022 (Monday), 23:00 CEST (Berlin time)**.\n",
    "\n",
    "After that, the form will be closed.\n"
   ],
   "metadata": {
    "collapsed": false
   }
  },
  {
   "cell_type": "code",
   "execution_count": 98,
   "outputs": [],
   "source": [],
   "metadata": {
    "collapsed": false
   }
  }
 ],
 "metadata": {
  "kernelspec": {
   "display_name": "Python 3",
   "language": "python",
   "name": "python3"
  },
  "language_info": {
   "codemirror_mode": {
    "name": "ipython",
    "version": 2
   },
   "file_extension": ".py",
   "mimetype": "text/x-python",
   "name": "python",
   "nbconvert_exporter": "python",
   "pygments_lexer": "ipython2",
   "version": "2.7.6"
  }
 },
 "nbformat": 4,
 "nbformat_minor": 0
}
