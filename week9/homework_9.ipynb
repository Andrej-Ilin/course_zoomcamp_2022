{
 "cells": [
  {
   "cell_type": "markdown",
   "source": [
    "## Homework\n",
    "\n",
    "In this homework, we'll deploy the dino or dragon model we trained in the\n",
    "[previous homework](https://github.com/alexeygrigorev/mlbookcamp-code/blob/master/course-zoomcamp/cohorts/2022/08-deep-learning/homework.md).\n",
    "\n",
    "Download the model from here:\n",
    "\n",
    "https://github.com/SVizor42/ML_Zoomcamp/releases/download/dino-dragon-model/dino_dragon_10_0.899.h5\n",
    "\n"
   ],
   "metadata": {
    "collapsed": false
   },
   "outputs": []
  },
  {
   "cell_type": "markdown",
   "source": [
    "In tetminal use this > python -m wget -o model_dino_dragon.h5 https://github.com/SVizor42/ML_Zoomcamp/releases/download/dino-dragon-model/dino_dragon\n",
    "_10_0.899.h5\n"
   ],
   "metadata": {
    "collapsed": false
   }
  },
  {
   "cell_type": "code",
   "execution_count": null,
   "outputs": [],
   "source": [
    "# !wget https://github.com/SVizor42/ML_Zoomcamp/releases/download/dino-dragon-model/dino_dragon_10_0.899.h5 -O model_dino_dragon.h5"
   ],
   "metadata": {
    "collapsed": false,
    "pycharm": {
     "is_executing": true
    }
   }
  },
  {
   "cell_type": "code",
   "execution_count": 1,
   "outputs": [
    {
     "data": {
      "text/plain": "'2.11.0'"
     },
     "execution_count": 1,
     "metadata": {},
     "output_type": "execute_result"
    }
   ],
   "source": [
    "import numpy as np\n",
    "\n",
    "import tensorflow as tf\n",
    "from tensorflow import keras\n",
    "\n",
    "tf.__version__"
   ],
   "metadata": {
    "collapsed": false
   }
  },
  {
   "cell_type": "markdown",
   "source": [
    "## Question 1\n",
    "\n",
    "Now convert this model from Keras to TF-Lite format.\n",
    "\n",
    "What's the size of the **converted** model?\n",
    "\n",
    "* 21 Mb\n",
    "* 43 Mb\n",
    "* 80 Mb\n",
    "* 164 Mb\n",
    "\n"
   ],
   "metadata": {
    "collapsed": false
   },
   "outputs": []
  },
  {
   "cell_type": "markdown",
   "source": [
    "answer: 43 Mb"
   ],
   "metadata": {
    "collapsed": false
   }
  },
  {
   "cell_type": "code",
   "execution_count": 4,
   "outputs": [],
   "source": [
    "model = keras.models.load_model('model_dino_dragon.h5')"
   ],
   "metadata": {
    "collapsed": false
   }
  },
  {
   "cell_type": "code",
   "execution_count": 5,
   "outputs": [
    {
     "name": "stderr",
     "output_type": "stream",
     "text": [
      "WARNING:absl:Found untraced functions such as _jit_compiled_convolution_op while saving (showing 1 of 1). These functions will not be directly callable after loading.\n"
     ]
    },
    {
     "name": "stdout",
     "output_type": "stream",
     "text": [
      "INFO:tensorflow:Assets written to: C:\\Users\\DS_PC\\AppData\\Local\\Temp\\tmp4wzwuy30\\assets\n"
     ]
    },
    {
     "name": "stderr",
     "output_type": "stream",
     "text": [
      "INFO:tensorflow:Assets written to: C:\\Users\\DS_PC\\AppData\\Local\\Temp\\tmp4wzwuy30\\assets\n"
     ]
    }
   ],
   "source": [
    "converter = tf.lite.TFLiteConverter.from_keras_model(model)\n",
    "\n",
    "tflite_model = converter.convert()"
   ],
   "metadata": {
    "collapsed": false
   }
  },
  {
   "cell_type": "code",
   "execution_count": 6,
   "outputs": [],
   "source": [
    "with open('model_dino_dragon.tflite', 'wb') as f_out:\n",
    "    f_out.write(tflite_model)"
   ],
   "metadata": {
    "collapsed": false
   }
  },
  {
   "cell_type": "code",
   "execution_count": 8,
   "outputs": [
    {
     "name": "stdout",
     "output_type": "stream",
     "text": [
      "total 129M\n",
      "-rw-r--r-- 1 DS_PC 197121 13K Nov 22 19:51 homework_9.ipynb\n",
      "-rw-r--r-- 1 DS_PC 197121 86M Nov 22 18:44 model_dino_dragon.h5\n",
      "-rw-r--r-- 1 DS_PC 197121 43M Nov 22 19:48 model_dino_dragon.tflite\n"
     ]
    }
   ],
   "source": [
    "!ls -lh"
   ],
   "metadata": {
    "collapsed": false
   }
  },
  {
   "cell_type": "markdown",
   "source": [
    "## Question 2\n",
    "\n",
    "To be able to use this model, we need to know the index of the input and\n",
    "the index of the output.\n",
    "\n",
    "What's the output index for this model?\n",
    "\n",
    "* 3\n",
    "* 7\n",
    "* 13\n",
    "* 24\n",
    "\n"
   ],
   "metadata": {
    "collapsed": false
   },
   "outputs": []
  },
  {
   "cell_type": "markdown",
   "source": [
    "answer: 13"
   ],
   "metadata": {
    "collapsed": false
   }
  },
  {
   "cell_type": "code",
   "execution_count": 9,
   "outputs": [],
   "source": [
    "import tensorflow.lite as tflite"
   ],
   "metadata": {
    "collapsed": false
   }
  },
  {
   "cell_type": "code",
   "execution_count": 10,
   "outputs": [],
   "source": [
    "interpreter = tflite.Interpreter(model_path='model_dino_dragon.tflite')\n",
    "interpreter.allocate_tensors()"
   ],
   "metadata": {
    "collapsed": false
   }
  },
  {
   "cell_type": "code",
   "execution_count": 12,
   "outputs": [],
   "source": [
    "input_index = interpreter.get_input_details()[0]['index']"
   ],
   "metadata": {
    "collapsed": false
   }
  },
  {
   "cell_type": "code",
   "execution_count": 14,
   "outputs": [],
   "source": [
    "output_index = interpreter.get_output_details()[0]['index']"
   ],
   "metadata": {
    "collapsed": false
   }
  },
  {
   "cell_type": "markdown",
   "source": [
    "## Preparing the image\n",
    "\n",
    "You'll need some code for downloading and resizing images. You can use\n",
    "this code:\n",
    "\n",
    "```python"
   ],
   "metadata": {
    "collapsed": false
   },
   "outputs": []
  },
  {
   "cell_type": "code",
   "execution_count": 15,
   "outputs": [],
   "source": [
    "from io import BytesIO\n",
    "from urllib import request\n",
    "\n",
    "from PIL import Image\n",
    "\n",
    "def download_image(url):\n",
    "    with request.urlopen(url) as resp:\n",
    "        buffer = resp.read()\n",
    "    stream = BytesIO(buffer)\n",
    "    img = Image.open(stream)\n",
    "    return img\n",
    "\n",
    "\n",
    "def prepare_image(img, target_size):\n",
    "    if img.mode != 'RGB':\n",
    "        img = img.convert('RGB')\n",
    "    img = img.resize(target_size, Image.NEAREST)\n",
    "    return img"
   ],
   "metadata": {
    "collapsed": false
   }
  },
  {
   "cell_type": "markdown",
   "source": [
    "```\n",
    "\n",
    "For that, you'll need to have `pillow` installed:\n",
    "\n",
    "```bash\n",
    "pip install pillow\n",
    "```\n",
    "\n",
    "Let's download and resize this image:\n",
    "\n",
    "https://upload.wikimedia.org/wikipedia/commons/thumb/d/df/Smaug_par_David_Demaret.jpg/1280px-Smaug_par_David_Demaret.jpg\n",
    "\n",
    "Based on the previous homework, what should be the target size for the image?\n",
    "\n"
   ],
   "metadata": {
    "collapsed": false
   }
  },
  {
   "cell_type": "code",
   "execution_count": 16,
   "outputs": [],
   "source": [
    "url = \"https://upload.wikimedia.org/wikipedia/commons/thumb/d/df/Smaug_par_David_Demaret.jpg/1280px-Smaug_par_David_Demaret.jpg\"\n",
    "img = download_image(url)"
   ],
   "metadata": {
    "collapsed": false
   }
  },
  {
   "cell_type": "code",
   "execution_count": 19,
   "outputs": [
    {
     "name": "stderr",
     "output_type": "stream",
     "text": [
      "C:\\Users\\DS_PC\\AppData\\Local\\Temp\\ipykernel_6728\\1222325884.py:17: DeprecationWarning: NEAREST is deprecated and will be removed in Pillow 10 (2023-07-01). Use Resampling.NEAREST or Dither.NONE instead.\n",
      "  img = img.resize(target_size, Image.NEAREST)\n"
     ]
    }
   ],
   "source": [
    "img = prepare_image(img, (299, 299))"
   ],
   "metadata": {
    "collapsed": false
   }
  },
  {
   "cell_type": "code",
   "execution_count": 25,
   "outputs": [
    {
     "data": {
      "text/plain": "array([[[137,  81,  46],\n        [149,  91,  53],\n        [147,  88,  48],\n        ...,\n        [ 16,   8,   5],\n        [ 21,   5,   5],\n        [ 29,  13,  13]],\n\n       [[131,  75,  38],\n        [147,  89,  52],\n        [143,  83,  46],\n        ...,\n        [ 22,  12,  10],\n        [ 20,   4,   4],\n        [ 23,   7,   7]],\n\n       [[129,  74,  35],\n        [138,  79,  45],\n        [149,  89,  53],\n        ...,\n        [ 20,   9,   7],\n        [ 27,  11,  11],\n        [ 25,   9,   9]],\n\n       ...,\n\n       [[118,  83,  63],\n        [170, 136,  99],\n        [ 98,  57,  89],\n        ...,\n        [ 94,  48,  12],\n        [ 96,  51,  12],\n        [ 66,  18,   0]],\n\n       [[141, 186, 163],\n        [105, 125,  53],\n        [ 87, 134,  54],\n        ...,\n        [ 80,  35,   0],\n        [ 91,  50,   6],\n        [ 83,  39,  14]],\n\n       [[ 92, 124,  74],\n        [ 99,  96,  81],\n        [ 99, 108,  77],\n        ...,\n        [ 67,  28,  11],\n        [ 74,  27,  11],\n        [ 79,  32,  16]]], dtype=uint8)"
     },
     "execution_count": 25,
     "metadata": {},
     "output_type": "execute_result"
    }
   ],
   "source": [
    "x = np.array(img)\n",
    "x."
   ],
   "metadata": {
    "collapsed": false
   }
  },
  {
   "cell_type": "code",
   "execution_count": 24,
   "outputs": [],
   "source": [
    " X = np.array([x])"
   ],
   "metadata": {
    "collapsed": false
   }
  },
  {
   "cell_type": "markdown",
   "source": [
    "## Question 3\n",
    "\n",
    "Now we need to turn the image into numpy array and pre-process it.\n",
    "\n",
    "> Tip: Check the previous homework. What was the pre-processing\n",
    "> we did there?\n",
    "\n",
    "After the pre-processing, what's the value in the first pixel, the R channel?\n",
    "\n",
    "* 0.3353411\n",
    "* 0.5529412\n",
    "* 0.7458824\n",
    "* 0.9654902\n",
    "\n"
   ],
   "metadata": {
    "collapsed": false
   }
  },
  {
   "cell_type": "code",
   "execution_count": null,
   "outputs": [],
   "source": [],
   "metadata": {
    "collapsed": false
   }
  },
  {
   "cell_type": "markdown",
   "source": [
    "## Question 4\n",
    "\n",
    "Now let's apply this model to this image. What's the output of the model?\n",
    "\n",
    "* 0.17049132\n",
    "* 0.39009996\n",
    "* 0.60146114\n",
    "* 0.82448614\n",
    "\n"
   ],
   "metadata": {
    "collapsed": false
   },
   "outputs": []
  },
  {
   "cell_type": "code",
   "execution_count": null,
   "outputs": [],
   "source": [],
   "metadata": {
    "collapsed": false
   }
  },
  {
   "cell_type": "markdown",
   "source": [
    "## Prepare the lambda code\n",
    "\n",
    "Now you need to copy all the code into a separate python file. You will\n",
    "need to use this file for the next two questions.\n",
    "\n",
    "Tip: you can test this file locally with `ipython` or Jupyter Notebook\n",
    "by importing the file and invoking the function from this file.\n",
    "\n"
   ],
   "metadata": {
    "collapsed": false
   },
   "outputs": []
  },
  {
   "cell_type": "markdown",
   "source": [
    "## Docker\n",
    "\n",
    "For the next two questions, we'll use a Docker image that we already\n",
    "prepared. This is the Dockerfile that we used for creating the image:\n",
    "\n",
    "```docker\n",
    "FROM public.ecr.aws/lambda/python:3.9\n",
    "COPY dino-vs-dragon-v2.tflite .\n",
    "```\n",
    "\n",
    "And pushed it to [`svizor42/zoomcamp-dino-dragon-lambda:v2`](https://hub.docker.com/r/svizor42/zoomcamp-dino-dragon-lambda/tags).\n",
    "\n",
    "\n",
    "> Note: The image already contains a model and it's not the same model\n",
    "> as the one we used for questions 1-4.\n",
    "\n"
   ],
   "metadata": {
    "collapsed": false
   },
   "outputs": []
  },
  {
   "cell_type": "code",
   "execution_count": null,
   "outputs": [],
   "source": [],
   "metadata": {
    "collapsed": false
   }
  },
  {
   "cell_type": "markdown",
   "source": [
    "## Question 5\n",
    "\n",
    "Download the base image `svizor42/zoomcamp-dino-dragon-lambda:v2`. You can easily make it by using [docker pull](https://docs.docker.com/engine/reference/commandline/pull/) command.\n",
    "\n",
    "So what's the size of this base image?\n",
    "\n",
    "* 139 Mb\n",
    "* 329 Mb\n",
    "* 639 Mb\n",
    "* 929 Mb\n",
    "\n",
    "You can get this information when running `docker images` - it'll be in the \"SIZE\" column.\n",
    "\n"
   ],
   "metadata": {
    "collapsed": false
   },
   "outputs": []
  },
  {
   "cell_type": "code",
   "execution_count": null,
   "outputs": [],
   "source": [],
   "metadata": {
    "collapsed": false
   }
  },
  {
   "cell_type": "markdown",
   "source": [
    "## Question 6\n",
    "\n",
    "Now let's extend this docker image, install all the required libraries\n",
    "and add the code for lambda.\n",
    "\n",
    "You don't need to include the model in the image. It's already included.\n",
    "The name of the file with the model is `dino-vs-dragon-v2.tflite` and it's\n",
    "in the current workdir in the image (see the Dockerfile above for the\n",
    "reference).\n",
    "\n",
    "Now run the container locally.\n",
    "\n",
    "Score this image: https://upload.wikimedia.org/wikipedia/en/e/e9/GodzillaEncounterModel.jpg\n",
    "\n",
    "What's the output from the model?\n",
    "\n",
    "* 0.12\n",
    "* 0.32\n",
    "* 0.52\n",
    "* 0.72\n",
    "\n"
   ],
   "metadata": {
    "collapsed": false
   },
   "outputs": []
  },
  {
   "cell_type": "code",
   "execution_count": null,
   "outputs": [],
   "source": [],
   "metadata": {
    "collapsed": false
   }
  },
  {
   "cell_type": "markdown",
   "source": [
    "## Publishing it to AWS\n",
    "\n",
    "Now you can deploy your model to AWS!\n",
    "\n",
    "* Publish your image to ECR\n",
    "* Create a lambda function in AWS, use the ECR image\n",
    "* Give it more RAM and increase the timeout\n",
    "* Test it\n",
    "* Expose the lambda function using API Gateway\n",
    "\n",
    "This is optional and not graded.\n",
    "\n"
   ],
   "metadata": {
    "collapsed": false
   },
   "outputs": []
  },
  {
   "cell_type": "markdown",
   "source": [
    "## Publishing to Docker hub\n",
    "\n",
    "This is just for reference, this is how we published our image to Docker hub:\n",
    "\n",
    "```bash\n",
    "docker build -t zoomcamp-dino-dragon-lambda .\n",
    "docker tag zoomcamp-dino-dragon-lambda:latest svizor42/zoomcamp-dino-dragon-lambda:v2\n",
    "docker push svizor42/zoomcamp-dino-dragon-lambda:v2\n",
    "```\n",
    "\n"
   ],
   "metadata": {
    "collapsed": false
   },
   "outputs": []
  },
  {
   "cell_type": "markdown",
   "source": [
    "## Submit the results\n",
    "\n",
    "* Submit your results here: https://forms.gle/Pnx563ELg9jgjxHX6\n",
    "* You can submit your solution multiple times. In this case, only the last submission will be used\n",
    "* If your answer doesn't match options exactly, select the closest one\n",
    "\n",
    "\n",
    "## Deadline\n",
    "\n",
    "The deadline for submitting is **28 November 2022 (Monday), 23:00 CEST (Berlin time)**.\n",
    "\n",
    "After that, the form will be closed.\n"
   ],
   "metadata": {
    "collapsed": false
   }
  },
  {
   "cell_type": "code",
   "execution_count": null,
   "outputs": [],
   "source": [],
   "metadata": {
    "collapsed": false
   }
  }
 ],
 "metadata": {
  "kernelspec": {
   "display_name": "Python 3",
   "language": "python",
   "name": "python3"
  },
  "language_info": {
   "codemirror_mode": {
    "name": "ipython",
    "version": 2
   },
   "file_extension": ".py",
   "mimetype": "text/x-python",
   "name": "python",
   "nbconvert_exporter": "python",
   "pygments_lexer": "ipython2",
   "version": "2.7.6"
  }
 },
 "nbformat": 4,
 "nbformat_minor": 0
}
