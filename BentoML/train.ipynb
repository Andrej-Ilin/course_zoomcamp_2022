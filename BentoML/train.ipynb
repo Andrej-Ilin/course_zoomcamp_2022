{
 "cells": [
  {
   "cell_type": "code",
   "execution_count": 1,
   "outputs": [
    {
     "data": {
      "text/plain": "MetricVisualizer(layout=Layout(align_self='stretch', height='500px'))",
      "application/vnd.jupyter.widget-view+json": {
       "version_major": 2,
       "version_minor": 0,
       "model_id": "a1bf0f3383a44ed1b07e821ccda3cbfb"
      }
     },
     "metadata": {},
     "output_type": "display_data"
    },
    {
     "name": "stdout",
     "output_type": "stream",
     "text": [
      "classification_report,               precision    recall  f1-score   support\n",
      "\n",
      "           0       0.96      0.98      0.97        90\n",
      "           1       0.95      0.88      0.91       104\n",
      "           2       0.91      0.90      0.90       107\n",
      "           3       0.92      0.99      0.96        99\n",
      "\n",
      "    accuracy                           0.93       400\n",
      "   macro avg       0.93      0.93      0.93       400\n",
      "weighted avg       0.93      0.93      0.93       400\n",
      "\n",
      "training the final model\n",
      "Learning rate set to 0.07027\n",
      "0:\tlearn: 1.2729863\ttotal: 15.4ms\tremaining: 18.5s\n",
      "100:\tlearn: 0.2053783\ttotal: 1.1s\tremaining: 11.9s\n",
      "200:\tlearn: 0.1181517\ttotal: 2.09s\tremaining: 10.4s\n",
      "300:\tlearn: 0.0867067\ttotal: 3.15s\tremaining: 9.4s\n",
      "400:\tlearn: 0.0669843\ttotal: 8.48s\tremaining: 16.9s\n",
      "500:\tlearn: 0.0529804\ttotal: 12.6s\tremaining: 17.6s\n",
      "600:\tlearn: 0.0430583\ttotal: 17.5s\tremaining: 17.5s\n",
      "700:\tlearn: 0.0354672\ttotal: 21s\tremaining: 15s\n",
      "800:\tlearn: 0.0299757\ttotal: 23.6s\tremaining: 11.8s\n",
      "900:\tlearn: 0.0257431\ttotal: 26.9s\tremaining: 8.93s\n",
      "1000:\tlearn: 0.0223895\ttotal: 29s\tremaining: 5.77s\n",
      "1100:\tlearn: 0.0197754\ttotal: 31.9s\tremaining: 2.87s\n",
      "1199:\tlearn: 0.0175596\ttotal: 33.9s\tremaining: 0us\n"
     ]
    },
    {
     "data": {
      "text/plain": "<catboost.core.CatBoostClassifier at 0x1fc9ccdfdc0>"
     },
     "execution_count": 1,
     "metadata": {},
     "output_type": "execute_result"
    }
   ],
   "source": [
    "import numpy as np\n",
    "import pandas as pd\n",
    "import seaborn as sns\n",
    "import matplotlib.pyplot as plt\n",
    "# from sklearn.linear_model import LogisticRegression, Ridge\n",
    "from catboost import CatBoostClassifier\n",
    "from sklearn.model_selection import train_test_split\n",
    "from sklearn.metrics import mutual_info_score\n",
    "from sklearn.feature_extraction import DictVectorizer\n",
    "from sklearn.metrics import accuracy_score, auc, recall_score, precision_score, f1_score, multilabel_confusion_matrix\n",
    "from sklearn import metrics\n",
    "import pickle\n",
    "import warnings\n",
    "warnings.filterwarnings(\"ignore\")\n",
    "\n",
    "# Data train load\n",
    "data = pd.read_csv('train.csv')\n",
    "test = pd.read_csv('test.csv')\n",
    "\n",
    "bin_cols = ['dual_sim', 'blue', 'four_g', 'three_g', 'touch_screen', 'wifi', ]\n",
    "num_cols = ['battery_power', 'mobile_wt', 'int_memory', 'px_height', 'px_width', 'ram']\n",
    "cat_cols = ['clock_speed', 'fc', 'm_dep', 'n_cores', 'pc', 'sc_h', 'sc_w', 'talk_time']\n",
    "target = ['price_range']\n",
    "\n",
    "df_train, df_val, y_train, y_val = train_test_split(data[cat_cols + num_cols + bin_cols],\n",
    "                                                    data['price_range'], test_size=0.2, random_state=1)\n",
    "# Prepare\n",
    "\n",
    "def prepare_data(df_train, df_val, test):\n",
    "    dv = DictVectorizer(sparse=False)\n",
    "\n",
    "    train_dict = df_train.to_dict(orient='records')\n",
    "    X_train = dv.fit_transform(train_dict)\n",
    "\n",
    "    val_dict = df_val.to_dict(orient='records')\n",
    "    X_val = dv.transform(val_dict)\n",
    "\n",
    "    test_dict = test.to_dict(orient='records')\n",
    "    X_test = dv.transform(test_dict)\n",
    "    return dv, X_train, X_val, X_test\n",
    "\n",
    "dv, X_train, X_val, X_test = prepare_data(df_train, df_val, test)\n",
    "\n",
    "# training\n",
    "\n",
    "tunned_model = CatBoostClassifier(\n",
    "    random_seed=42,\n",
    "    iterations=1000,\n",
    "    learning_rate=0.03,\n",
    "    l2_leaf_reg=3,\n",
    "    bagging_temperature=1,\n",
    "    random_strength=1,\n",
    "    one_hot_max_size=2,\n",
    "    leaf_estimation_method='Newton'\n",
    ")\n",
    "\n",
    "tunned_model.fit(\n",
    "    X_train, y_train,\n",
    "    verbose=False,\n",
    "    eval_set=(X_val, y_val),\n",
    "    plot=True\n",
    "\n",
    ")\n",
    "y_pred = tunned_model.predict(X_val)\n",
    "print(f'classification_report, {metrics.classification_report(y_pred, y_val)}')\n",
    "\n",
    "# training final model\n",
    "print('training the final model')\n",
    "X = np.vstack([X_train, X_val])\n",
    "y = np.hstack([y_train, y_val])\n",
    "\n",
    "best_model = CatBoostClassifier(\n",
    "    random_seed=42,\n",
    "    iterations=int(tunned_model.tree_count_ * 1.2)\n",
    ")\n",
    "\n",
    "best_model.fit(\n",
    "    X, y,\n",
    "    verbose=100\n",
    ")"
   ],
   "metadata": {
    "collapsed": false
   }
  },
  {
   "cell_type": "code",
   "execution_count": 3,
   "outputs": [
    {
     "data": {
      "text/plain": "Model(tag=\"price_range:zcvwch2z5kalt2bk\", path=\"C:\\Users\\DS_PC\\bentoml\\models\\price_range\\zcvwch2z5kalt2bk\\\")"
     },
     "execution_count": 3,
     "metadata": {},
     "output_type": "execute_result"
    }
   ],
   "source": [
    "import bentoml\n",
    "bentoml.catboost.save_model(\"price_range\", best_model, custom_objects={\"DictVectorizer\": dv})"
   ],
   "metadata": {
    "collapsed": false
   }
  },
  {
   "cell_type": "code",
   "execution_count": null,
   "outputs": [],
   "source": [],
   "metadata": {
    "collapsed": false
   }
  }
 ],
 "metadata": {
  "kernelspec": {
   "display_name": "Python 3",
   "language": "python",
   "name": "python3"
  },
  "language_info": {
   "codemirror_mode": {
    "name": "ipython",
    "version": 2
   },
   "file_extension": ".py",
   "mimetype": "text/x-python",
   "name": "python",
   "nbconvert_exporter": "python",
   "pygments_lexer": "ipython2",
   "version": "2.7.6"
  }
 },
 "nbformat": 4,
 "nbformat_minor": 0
}
