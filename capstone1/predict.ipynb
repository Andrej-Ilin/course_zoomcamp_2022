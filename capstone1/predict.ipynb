{
 "cells": [
  {
   "cell_type": "code",
   "execution_count": 1,
   "metadata": {
    "collapsed": true
   },
   "outputs": [
    {
     "name": "stderr",
     "output_type": "stream",
     "text": [
      "2022-12-20 22:17:43.100702: I tensorflow/core/platform/cpu_feature_guard.cc:193] This TensorFlow binary is optimized with oneAPI Deep Neural Network Library (oneDNN) to use the following CPU instructions in performance-critical operations:  AVX2 FMA\n",
      "To enable them in other operations, rebuild TensorFlow with the appropriate compiler flags.\n",
      "2022-12-20 22:17:43.571128: W tensorflow/compiler/xla/stream_executor/platform/default/dso_loader.cc:64] Could not load dynamic library 'libcudart.so.11.0'; dlerror: libcudart.so.11.0: cannot open shared object file: No such file or directory\n",
      "2022-12-20 22:17:43.571151: I tensorflow/compiler/xla/stream_executor/cuda/cudart_stub.cc:29] Ignore above cudart dlerror if you do not have a GPU set up on your machine.\n",
      "2022-12-20 22:17:45.044669: W tensorflow/compiler/xla/stream_executor/platform/default/dso_loader.cc:64] Could not load dynamic library 'libnvinfer.so.7'; dlerror: libnvinfer.so.7: cannot open shared object file: No such file or directory\n",
      "2022-12-20 22:17:45.044823: W tensorflow/compiler/xla/stream_executor/platform/default/dso_loader.cc:64] Could not load dynamic library 'libnvinfer_plugin.so.7'; dlerror: libnvinfer_plugin.so.7: cannot open shared object file: No such file or directory\n",
      "2022-12-20 22:17:45.044838: W tensorflow/compiler/tf2tensorrt/utils/py_utils.cc:38] TF-TRT Warning: Cannot dlopen some TensorRT libraries. If you would like to use Nvidia GPU with TensorRT, please make sure the missing libraries mentioned above are installed properly.\n"
     ]
    }
   ],
   "source": [
    "import tensorflow.lite as tflite\n",
    "from keras_image_helper import create_preprocessor\n",
    "import pickle\n",
    "import numpy as np\n",
    "\n",
    "preprocessor = create_preprocessor('xception', target_size=(224, 224))\n"
   ]
  },
  {
   "cell_type": "code",
   "execution_count": 2,
   "outputs": [
    {
     "name": "stderr",
     "output_type": "stream",
     "text": [
      "INFO: Created TensorFlow Lite XNNPACK delegate for CPU.\n"
     ]
    }
   ],
   "source": [
    "interpreter = tflite.Interpreter(model_path='model_0.936.tflite')\n",
    "interpreter.allocate_tensors()\n",
    "\n",
    "input_index = interpreter.get_input_details()[0]['index']\n",
    "output_index = interpreter.get_output_details()[0]['index']"
   ],
   "metadata": {
    "collapsed": false
   }
  },
  {
   "cell_type": "code",
   "execution_count": 3,
   "outputs": [],
   "source": [
    "with open(\"classes\", \"rb\") as fp:   # Unpickling\n",
    "    classes = pickle.load(fp)"
   ],
   "metadata": {
    "collapsed": false
   }
  },
  {
   "cell_type": "code",
   "execution_count": 14,
   "outputs": [
    {
     "data": {
      "text/plain": "['Afghan',\n 'African Wild Dog',\n 'Airedale',\n 'American  Spaniel',\n 'American Hairless',\n 'Basenji',\n 'Basset',\n 'Beagle',\n 'Bearded Collie',\n 'Bermaise',\n 'Bichon Frise',\n 'Blenheim',\n 'Bloodhound',\n 'Bluetick',\n 'Border Collie',\n 'Borzoi',\n 'Boston Terrier',\n 'Boxer',\n 'Bull Mastiff',\n 'Bull Terrier',\n 'Bulldog',\n 'Cairn',\n 'Chihuahua',\n 'Chinese Crested',\n 'Chow',\n 'Clumber',\n 'Cockapoo',\n 'Cocker',\n 'Collie',\n 'Corgi',\n 'Coyote',\n 'Dalmation',\n 'Dhole',\n 'Dingo',\n 'Doberman',\n 'Elk Hound',\n 'French Bulldog',\n 'German Sheperd',\n 'Golden Retriever',\n 'Great Dane',\n 'Great Perenees',\n 'Greyhound',\n 'Groenendael',\n 'Irish Spaniel',\n 'Irish Wolfhound',\n 'Japanese Spaniel',\n 'Komondor',\n 'Labradoodle',\n 'Labrador',\n 'Lhasa',\n 'Malinois',\n 'Maltese',\n 'Mex Hairless',\n 'Newfoundland',\n 'Pekinese',\n 'Pit Bull',\n 'Pomeranian',\n 'Poodle',\n 'Pug',\n 'Rhodesian',\n 'Rottweiler',\n 'Saint Bernard',\n 'Schnauzer',\n 'Scotch Terrier',\n 'Shar_Pei',\n 'Shiba Inu',\n 'Shih-Tzu',\n 'Siberian Husky',\n 'Vizsla',\n 'Yorkie']"
     },
     "execution_count": 14,
     "metadata": {},
     "output_type": "execute_result"
    }
   ],
   "source": [],
   "metadata": {
    "collapsed": false
   }
  },
  {
   "cell_type": "code",
   "execution_count": 12,
   "outputs": [],
   "source": [
    "# url = 'https://glorypets.ru/wp-content/uploads/2020/07/1-tsarstvennost.jpg'\n",
    "url = 'https://sun9-79.userapi.com/c11422/u1430261/148960630/x_b6d7669e.jpg'\n",
    "\n",
    "def predict(url):\n",
    "    X = preprocessor.from_url(url)\n",
    "\n",
    "    interpreter.set_tensor(input_index, X)\n",
    "    interpreter.invoke()\n",
    "    preds = interpreter.get_tensor(output_index)\n",
    "\n",
    "    ind = np.argpartition(preds[0], -2)[-2:]\n",
    "    # print('ind', ind)\n",
    "    # print(np.diff(preds[0][ind]))\n",
    "    if np.diff(preds[0][ind]) > 0.8: # if clear the breed\n",
    "        return {classes[np.argmax(preds[0])]: np.max(preds).tolist()}\n",
    "    else: # half breed\n",
    "        h_breed = {}\n",
    "        for i in ind:\n",
    "            print(preds[0][i], 'preds[0][i]')\n",
    "            h_breed[classes[i]]=preds[0][i].tolist()\n",
    "        # h_breed = dict(zip(classes, preds[0]))\n",
    "        return h_breed\n"
   ],
   "metadata": {
    "collapsed": false
   }
  },
  {
   "cell_type": "code",
   "execution_count": 13,
   "outputs": [
    {
     "name": "stdout",
     "output_type": "stream",
     "text": [
      "0.24571152 preds[0][i]\n",
      "0.71995497 preds[0][i]\n"
     ]
    },
    {
     "data": {
      "text/plain": "{'Rottweiler': 0.2457115203142166, 'Doberman': 0.7199549674987793}"
     },
     "execution_count": 13,
     "metadata": {},
     "output_type": "execute_result"
    }
   ],
   "source": [
    "predict(url)"
   ],
   "metadata": {
    "collapsed": false
   }
  },
  {
   "cell_type": "code",
   "execution_count": null,
   "outputs": [],
   "source": [],
   "metadata": {
    "collapsed": false
   }
  }
 ],
 "metadata": {
  "kernelspec": {
   "display_name": "Python 3",
   "language": "python",
   "name": "python3"
  },
  "language_info": {
   "codemirror_mode": {
    "name": "ipython",
    "version": 2
   },
   "file_extension": ".py",
   "mimetype": "text/x-python",
   "name": "python",
   "nbconvert_exporter": "python",
   "pygments_lexer": "ipython2",
   "version": "2.7.6"
  }
 },
 "nbformat": 4,
 "nbformat_minor": 0
}
