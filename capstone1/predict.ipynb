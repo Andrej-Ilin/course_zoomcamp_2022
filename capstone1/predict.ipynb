{
 "cells": [
  {
   "cell_type": "code",
   "execution_count": 10,
   "metadata": {
    "collapsed": true
   },
   "outputs": [],
   "source": [
    "import tensorflow.lite as tflite\n",
    "from keras_image_helper import create_preprocessor\n",
    "import pickle\n",
    "import numpy as np\n",
    "\n",
    "preprocessor = create_preprocessor('xception', target_size=(224, 224))\n"
   ]
  },
  {
   "cell_type": "code",
   "execution_count": 11,
   "outputs": [
    {
     "name": "stderr",
     "output_type": "stream",
     "text": [
      "INFO: Created TensorFlow Lite XNNPACK delegate for CPU.\n"
     ]
    }
   ],
   "source": [
    "interpreter = tflite.Interpreter(model_path='model_0.936.tflite')\n",
    "interpreter.allocate_tensors()\n",
    "\n",
    "input_index = interpreter.get_input_details()[0]['index']\n",
    "output_index = interpreter.get_output_details()[0]['index']"
   ],
   "metadata": {
    "collapsed": false
   }
  },
  {
   "cell_type": "code",
   "execution_count": 12,
   "outputs": [],
   "source": [
    "with open(\"classes\", \"rb\") as fp:   # Unpickling\n",
    "    classes = pickle.load(fp)"
   ],
   "metadata": {
    "collapsed": false
   }
  },
  {
   "cell_type": "code",
   "execution_count": 154,
   "outputs": [],
   "source": [
    "url = 'https://glorypets.ru/wp-content/uploads/2020/07/1-tsarstvennost.jpg'\n",
    "# url = 'https://sun9-79.userapi.com/c11422/u1430261/148960630/x_b6d7669e.jpg'\n",
    "\n",
    "def predict(url):\n",
    "    X = preprocessor.from_url(url)\n",
    "\n",
    "    interpreter.set_tensor(input_index, X)\n",
    "    interpreter.invoke()\n",
    "    preds = interpreter.get_tensor(output_index)\n",
    "\n",
    "    ind = np.argpartition(preds[0], -2)[-2:]\n",
    "    # print('ind', ind)\n",
    "    print(np.diff(preds[0][ind]))\n",
    "    if np.diff(preds[0][ind]) > 0.8: # if clear the breed\n",
    "        return classes[np.argmax(preds[0])], np.max(preds)\n",
    "    else: # half breed\n",
    "        h_breed = {}\n",
    "        for i in ind:\n",
    "            # print(i)\n",
    "            h_breed[classes[i]]=preds[0][i]\n",
    "        # h_breed = dict(zip(classes, preds[0]))\n",
    "        return h_breed\n"
   ],
   "metadata": {
    "collapsed": false
   }
  },
  {
   "cell_type": "code",
   "execution_count": 155,
   "outputs": [
    {
     "name": "stdout",
     "output_type": "stream",
     "text": [
      "[0.9874433]\n"
     ]
    },
    {
     "data": {
      "text/plain": "('Doberman', 0.9903132)"
     },
     "execution_count": 155,
     "metadata": {},
     "output_type": "execute_result"
    }
   ],
   "source": [
    "predict(url)"
   ],
   "metadata": {
    "collapsed": false
   }
  },
  {
   "cell_type": "code",
   "execution_count": null,
   "outputs": [],
   "source": [],
   "metadata": {
    "collapsed": false
   }
  }
 ],
 "metadata": {
  "kernelspec": {
   "display_name": "Python 3",
   "language": "python",
   "name": "python3"
  },
  "language_info": {
   "codemirror_mode": {
    "name": "ipython",
    "version": 2
   },
   "file_extension": ".py",
   "mimetype": "text/x-python",
   "name": "python",
   "nbconvert_exporter": "python",
   "pygments_lexer": "ipython2",
   "version": "2.7.6"
  }
 },
 "nbformat": 4,
 "nbformat_minor": 0
}
