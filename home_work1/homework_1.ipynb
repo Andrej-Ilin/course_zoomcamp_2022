{
 "cells": [
  {
   "cell_type": "markdown",
   "source": [],
   "metadata": {
    "collapsed": false
   }
  },
  {
   "cell_type": "markdown",
   "source": [
    "## Homework #1"
   ],
   "metadata": {
    "collapsed": false
   }
  },
  {
   "cell_type": "markdown",
   "source": [
    "### Set up the environment"
   ],
   "metadata": {
    "collapsed": false
   }
  },
  {
   "cell_type": "markdown",
   "source": [
    "You need to install Python, NumPy, Pandas, Matplotlib and Seaborn. For that, you can the instructions from <a href='https://github.com/alexeygrigorev/mlbookcamp-code/blob/master/course-zoomcamp/01-intro/06-environment.md'>06-environment.md</a>."
   ],
   "metadata": {
    "collapsed": false
   }
  },
  {
   "cell_type": "code",
   "execution_count": 52,
   "outputs": [],
   "source": [
    "import numpy as np\n",
    "import pandas as pd"
   ],
   "metadata": {
    "collapsed": false
   }
  },
  {
   "cell_type": "markdown",
   "source": [
    "### Question 1"
   ],
   "metadata": {
    "collapsed": false
   }
  },
  {
   "cell_type": "markdown",
   "source": [
    "What's the version of NumPy that you installed?\n",
    "\n",
    "You can get the version information using the `__version__` field:"
   ],
   "metadata": {
    "collapsed": false
   }
  },
  {
   "cell_type": "code",
   "execution_count": 53,
   "outputs": [
    {
     "data": {
      "text/plain": "'1.21.5'"
     },
     "execution_count": 53,
     "metadata": {},
     "output_type": "execute_result"
    }
   ],
   "source": [
    "np.__version__"
   ],
   "metadata": {
    "collapsed": false
   }
  },
  {
   "cell_type": "markdown",
   "source": [
    "### Getting the data"
   ],
   "metadata": {
    "collapsed": false
   }
  },
  {
   "cell_type": "markdown",
   "source": [
    "For this homework, we'll use the Car price dataset. Download it from <a href='https://raw.githubusercontent.com/alexeygrigorev/mlbookcamp-code/master/chapter-02-car-price/data.csv'>here</a>.\n",
    "\n",
    "You can do it with wget:\n",
    "```bash\n",
    "wget https://raw.githubusercontent.com/alexeygrigorev/mlbookcamp-code/master/chapter-02-car-price/data.csv\n",
    "```\n",
    "Or just open it with your browser and click \"Save as...\".\n",
    "\n",
    "Now read it with Pandas."
   ],
   "metadata": {
    "collapsed": false
   }
  },
  {
   "cell_type": "code",
   "execution_count": 54,
   "outputs": [],
   "source": [
    "data = pd.read_csv(\"https://raw.githubusercontent.com/alexeygrigorev/mlbookcamp-code/master/chapter-02-car-price/data.csv\")"
   ],
   "metadata": {
    "collapsed": false
   }
  },
  {
   "cell_type": "markdown",
   "source": [
    "### Question 2"
   ],
   "metadata": {
    "collapsed": false
   }
  },
  {
   "cell_type": "markdown",
   "source": [
    "How many records are in the dataset?\n",
    "\n",
    "Here you need to specify the number of rows."
   ],
   "metadata": {
    "collapsed": false
   }
  },
  {
   "cell_type": "code",
   "execution_count": 55,
   "outputs": [
    {
     "data": {
      "text/plain": "11914"
     },
     "execution_count": 55,
     "metadata": {},
     "output_type": "execute_result"
    }
   ],
   "source": [
    "data.shape[0]   # alternative is len(data.index)"
   ],
   "metadata": {
    "collapsed": false
   }
  },
  {
   "cell_type": "markdown",
   "source": [
    "### Question 3"
   ],
   "metadata": {
    "collapsed": false
   }
  },
  {
   "cell_type": "markdown",
   "source": [
    "Who are the most frequent car manufacturers (top-3) according to the dataset?"
   ],
   "metadata": {
    "collapsed": false
   }
  },
  {
   "cell_type": "code",
   "execution_count": 56,
   "outputs": [
    {
     "data": {
      "text/plain": "Chevrolet     1123\nFord           881\nVolkswagen     809\nName: Make, dtype: int64"
     },
     "execution_count": 56,
     "metadata": {},
     "output_type": "execute_result"
    }
   ],
   "source": [
    "data['Make'].value_counts()[:3]"
   ],
   "metadata": {
    "collapsed": false
   }
  },
  {
   "cell_type": "markdown",
   "source": [
    "### Question 4"
   ],
   "metadata": {
    "collapsed": false
   }
  },
  {
   "cell_type": "markdown",
   "source": [
    "What's the number of unique Audi car models in the dataset?"
   ],
   "metadata": {
    "collapsed": false
   }
  },
  {
   "cell_type": "code",
   "execution_count": 57,
   "outputs": [
    {
     "data": {
      "text/plain": "34"
     },
     "execution_count": 57,
     "metadata": {},
     "output_type": "execute_result"
    }
   ],
   "source": [
    "data[data['Make'] == 'Audi']['Model'].nunique()"
   ],
   "metadata": {
    "collapsed": false
   }
  },
  {
   "cell_type": "markdown",
   "source": [
    "### Question 5"
   ],
   "metadata": {
    "collapsed": false
   }
  },
  {
   "cell_type": "markdown",
   "source": [
    "How many columns in the dataset have missing values?"
   ],
   "metadata": {
    "collapsed": false
   }
  },
  {
   "cell_type": "code",
   "execution_count": 58,
   "outputs": [
    {
     "data": {
      "text/plain": "Make                    0\nModel                   0\nYear                    0\nEngine Fuel Type        3\nEngine HP              69\nEngine Cylinders       30\nTransmission Type       0\nDriven_Wheels           0\nNumber of Doors         6\nMarket Category      3742\nVehicle Size            0\nVehicle Style           0\nhighway MPG             0\ncity mpg                0\nPopularity              0\nMSRP                    0\ndtype: int64"
     },
     "execution_count": 58,
     "metadata": {},
     "output_type": "execute_result"
    }
   ],
   "source": [
    "data.isnull().sum()"
   ],
   "metadata": {
    "collapsed": false
   }
  },
  {
   "cell_type": "markdown",
   "source": [
    "We can see that 5 columns have missing values.\n",
    "\n",
    "We can also calculate it in one line:"
   ],
   "metadata": {
    "collapsed": false
   }
  },
  {
   "cell_type": "code",
   "execution_count": 59,
   "outputs": [
    {
     "data": {
      "text/plain": "5"
     },
     "execution_count": 59,
     "metadata": {},
     "output_type": "execute_result"
    }
   ],
   "source": [
    "(data.isnull().sum() != 0).sum()"
   ],
   "metadata": {
    "collapsed": false
   }
  },
  {
   "cell_type": "markdown",
   "source": [
    "### Question 6"
   ],
   "metadata": {
    "collapsed": false
   }
  },
  {
   "cell_type": "markdown",
   "source": [
    "\n",
    "\n",
    "1. Find the median value of \"Engine Cylinders\" column in the dataset.\n",
    "2. Next, calculate the most frequent value of the same \"Engine Cylinders\".\n",
    "3. Use the `fillna` method to fill the missing values in \"Engine Cylinders\" with the most frequent value from the previous step.\n",
    "4. Now, calculate the median value of \"Engine Cylinders\" once again.\n",
    "\n",
    "Has it changed?"
   ],
   "metadata": {
    "collapsed": false
   }
  },
  {
   "cell_type": "code",
   "execution_count": 60,
   "outputs": [
    {
     "data": {
      "text/plain": "6.0"
     },
     "execution_count": 60,
     "metadata": {},
     "output_type": "execute_result"
    }
   ],
   "source": [
    "median_engine_cylinders = data['Engine Cylinders'].median()\n",
    "median_engine_cylinders"
   ],
   "metadata": {
    "collapsed": false
   }
  },
  {
   "cell_type": "code",
   "execution_count": 61,
   "outputs": [
    {
     "data": {
      "text/plain": "4.0"
     },
     "execution_count": 61,
     "metadata": {},
     "output_type": "execute_result"
    }
   ],
   "source": [
    "mode_engine_cylinders = data['Engine Cylinders'].mode()\n",
    "mode_engine_cylinders[0]"
   ],
   "metadata": {
    "collapsed": false
   }
  },
  {
   "cell_type": "code",
   "execution_count": 62,
   "outputs": [
    {
     "data": {
      "text/plain": "6.0"
     },
     "execution_count": 62,
     "metadata": {},
     "output_type": "execute_result"
    }
   ],
   "source": [
    "data['Engine Cylinders'].fillna(mode_engine_cylinders).median()"
   ],
   "metadata": {
    "collapsed": false
   }
  },
  {
   "cell_type": "markdown",
   "source": [
    "No, it's left the same."
   ],
   "metadata": {
    "collapsed": false
   }
  },
  {
   "cell_type": "markdown",
   "source": [
    "### Question 7"
   ],
   "metadata": {
    "collapsed": false
   }
  },
  {
   "cell_type": "markdown",
   "source": [
    "1. Select all the \"Lotus\" cars from the dataset.\n",
    "2. Select only columns \"Engine HP\", \"Engine Cylinders\".\n",
    "3. Now drop all duplicated rows using `drop_duplicates` method (you should get a dataframe with 9 rows).\n",
    "4. Get the underlying NumPy array. Let's call it `X`.\n",
    "5. Compute matrix-matrix multiplication between the transpose of `X` and `X`. To get the transpose, use `X.T`. Let's call the result `XTX`.\n",
    "6. Invert `XTX`.\n",
    "7. Create an array `y` with values `[1100, 800, 750, 850, 1300, 1000, 1000, 1300, 800]`.\n",
    "8. Multiply the inverse of `XTX` with the transpose of `X`, and then multiply the result by `y`. Call the result `w`.\n",
    "9. What's the value of the first element of `w`?"
   ],
   "metadata": {
    "collapsed": false
   }
  },
  {
   "cell_type": "code",
   "execution_count": 63,
   "outputs": [
    {
     "data": {
      "text/plain": "       Make      Model  Year                Engine Fuel Type  Engine HP  \\\n3912  Lotus      Elise  2009     premium unleaded (required)      189.0   \n3913  Lotus      Elise  2009     premium unleaded (required)      218.0   \n3914  Lotus      Elise  2009     premium unleaded (required)      189.0   \n3915  Lotus      Elise  2010     premium unleaded (required)      189.0   \n3916  Lotus      Elise  2010     premium unleaded (required)      218.0   \n3917  Lotus      Elise  2011     premium unleaded (required)      189.0   \n3918  Lotus      Elise  2011     premium unleaded (required)      217.0   \n3919  Lotus      Elise  2011     premium unleaded (required)      217.0   \n4216  Lotus     Esprit  2002     premium unleaded (required)      350.0   \n4217  Lotus     Esprit  2003     premium unleaded (required)      350.0   \n4218  Lotus     Esprit  2004     premium unleaded (required)      350.0   \n4257  Lotus  Evora 400  2017     premium unleaded (required)      400.0   \n4258  Lotus  Evora 400  2017     premium unleaded (required)      400.0   \n4259  Lotus      Evora  2011     premium unleaded (required)      276.0   \n4260  Lotus      Evora  2011     premium unleaded (required)      276.0   \n4261  Lotus      Evora  2013     premium unleaded (required)      276.0   \n4262  Lotus      Evora  2013     premium unleaded (required)      345.0   \n4263  Lotus      Evora  2013     premium unleaded (required)      345.0   \n4264  Lotus      Evora  2013     premium unleaded (required)      276.0   \n4265  Lotus      Evora  2014     premium unleaded (required)      345.0   \n4266  Lotus      Evora  2014     premium unleaded (required)      276.0   \n4267  Lotus      Evora  2014     premium unleaded (required)      345.0   \n4268  Lotus      Evora  2014     premium unleaded (required)      276.0   \n4292  Lotus      Exige  2009  premium unleaded (recommended)      257.0   \n4293  Lotus      Exige  2009  premium unleaded (recommended)      240.0   \n4294  Lotus      Exige  2010  premium unleaded (recommended)      240.0   \n4295  Lotus      Exige  2011  premium unleaded (recommended)      240.0   \n4296  Lotus      Exige  2011  premium unleaded (recommended)      257.0   \n4297  Lotus      Exige  2011  premium unleaded (recommended)      257.0   \n\n      Engine Cylinders Transmission Type     Driven_Wheels  Number of Doors  \\\n3912               4.0            MANUAL  rear wheel drive              2.0   \n3913               4.0            MANUAL  rear wheel drive              2.0   \n3914               4.0            MANUAL  rear wheel drive              2.0   \n3915               4.0            MANUAL  rear wheel drive              2.0   \n3916               4.0            MANUAL  rear wheel drive              2.0   \n3917               4.0            MANUAL  rear wheel drive              2.0   \n3918               4.0            MANUAL  rear wheel drive              2.0   \n3919               4.0            MANUAL  rear wheel drive              2.0   \n4216               8.0            MANUAL  rear wheel drive              2.0   \n4217               8.0            MANUAL  rear wheel drive              2.0   \n4218               8.0            MANUAL  rear wheel drive              2.0   \n4257               6.0            MANUAL  rear wheel drive              2.0   \n4258               6.0            MANUAL  rear wheel drive              2.0   \n4259               6.0            MANUAL  rear wheel drive              2.0   \n4260               6.0            MANUAL  rear wheel drive              2.0   \n4261               6.0            MANUAL  rear wheel drive              2.0   \n4262               6.0            MANUAL  rear wheel drive              2.0   \n4263               6.0            MANUAL  rear wheel drive              2.0   \n4264               6.0            MANUAL  rear wheel drive              2.0   \n4265               6.0            MANUAL  rear wheel drive              2.0   \n4266               6.0            MANUAL  rear wheel drive              2.0   \n4267               6.0            MANUAL  rear wheel drive              2.0   \n4268               6.0            MANUAL  rear wheel drive              2.0   \n4292               4.0            MANUAL  rear wheel drive              2.0   \n4293               4.0            MANUAL  rear wheel drive              2.0   \n4294               4.0            MANUAL  rear wheel drive              2.0   \n4295               4.0            MANUAL  rear wheel drive              2.0   \n4296               4.0            MANUAL  rear wheel drive              2.0   \n4297               4.0            MANUAL  rear wheel drive              2.0   \n\n              Market Category Vehicle Size Vehicle Style  highway MPG  \\\n3912  Exotic,High-Performance      Compact   Convertible           27   \n3913  Exotic,High-Performance      Compact   Convertible           26   \n3914  Exotic,High-Performance      Compact   Convertible           27   \n3915  Exotic,High-Performance      Compact   Convertible           27   \n3916  Exotic,High-Performance      Compact   Convertible           26   \n3917  Exotic,High-Performance      Compact   Convertible           27   \n3918  Exotic,High-Performance      Compact   Convertible           26   \n3919  Exotic,High-Performance      Compact   Convertible           26   \n4216  Exotic,High-Performance      Compact         Coupe           21   \n4217  Exotic,High-Performance      Compact         Coupe           21   \n4218  Exotic,High-Performance      Compact         Coupe           21   \n4257  Exotic,High-Performance      Compact         Coupe           39   \n4258  Exotic,High-Performance      Compact         Coupe           39   \n4259  Exotic,High-Performance      Compact         Coupe           27   \n4260  Exotic,High-Performance      Compact         Coupe           26   \n4261  Exotic,High-Performance      Compact         Coupe           26   \n4262  Exotic,High-Performance      Compact         Coupe           26   \n4263  Exotic,High-Performance      Compact         Coupe           26   \n4264  Exotic,High-Performance      Compact         Coupe           26   \n4265  Exotic,High-Performance      Compact         Coupe           26   \n4266  Exotic,High-Performance      Compact         Coupe           26   \n4267  Exotic,High-Performance      Compact         Coupe           26   \n4268  Exotic,High-Performance      Compact         Coupe           26   \n4292  Exotic,High-Performance      Compact         Coupe           26   \n4293  Exotic,High-Performance      Compact         Coupe           26   \n4294  Exotic,High-Performance      Compact         Coupe           26   \n4295  Exotic,High-Performance      Compact         Coupe           26   \n4296  Exotic,High-Performance      Compact         Coupe           26   \n4297  Exotic,High-Performance      Compact         Coupe           26   \n\n      city mpg  Popularity   MSRP  \n3912        21         613  43995  \n3913        20         613  54990  \n3914        21         613  47250  \n3915        21         613  47250  \n3916        20         613  54990  \n3917        21         613  51845  \n3918        20         613  54990  \n3919        20         613  57950  \n4216        14         613  89825  \n4217        14         613  90825  \n4218        14         613  93225  \n4257        21         613  91900  \n4258        21         613  91900  \n4259        18         613  64000  \n4260        18         613  65500  \n4261        18         613  66800  \n4262        17         613  77100  \n4263        17         613  78600  \n4264        18         613  68300  \n4265        17         613  78750  \n4266        18         613  68750  \n4267        17         613  79980  \n4268        18         613  69980  \n4292        20         613  74995  \n4293        20         613  65690  \n4294        20         613  65690  \n4295        20         613  65690  \n4296        20         613  70750  \n4297        20         613  74950  ",
      "text/html": "<div>\n<style scoped>\n    .dataframe tbody tr th:only-of-type {\n        vertical-align: middle;\n    }\n\n    .dataframe tbody tr th {\n        vertical-align: top;\n    }\n\n    .dataframe thead th {\n        text-align: right;\n    }\n</style>\n<table border=\"1\" class=\"dataframe\">\n  <thead>\n    <tr style=\"text-align: right;\">\n      <th></th>\n      <th>Make</th>\n      <th>Model</th>\n      <th>Year</th>\n      <th>Engine Fuel Type</th>\n      <th>Engine HP</th>\n      <th>Engine Cylinders</th>\n      <th>Transmission Type</th>\n      <th>Driven_Wheels</th>\n      <th>Number of Doors</th>\n      <th>Market Category</th>\n      <th>Vehicle Size</th>\n      <th>Vehicle Style</th>\n      <th>highway MPG</th>\n      <th>city mpg</th>\n      <th>Popularity</th>\n      <th>MSRP</th>\n    </tr>\n  </thead>\n  <tbody>\n    <tr>\n      <th>3912</th>\n      <td>Lotus</td>\n      <td>Elise</td>\n      <td>2009</td>\n      <td>premium unleaded (required)</td>\n      <td>189.0</td>\n      <td>4.0</td>\n      <td>MANUAL</td>\n      <td>rear wheel drive</td>\n      <td>2.0</td>\n      <td>Exotic,High-Performance</td>\n      <td>Compact</td>\n      <td>Convertible</td>\n      <td>27</td>\n      <td>21</td>\n      <td>613</td>\n      <td>43995</td>\n    </tr>\n    <tr>\n      <th>3913</th>\n      <td>Lotus</td>\n      <td>Elise</td>\n      <td>2009</td>\n      <td>premium unleaded (required)</td>\n      <td>218.0</td>\n      <td>4.0</td>\n      <td>MANUAL</td>\n      <td>rear wheel drive</td>\n      <td>2.0</td>\n      <td>Exotic,High-Performance</td>\n      <td>Compact</td>\n      <td>Convertible</td>\n      <td>26</td>\n      <td>20</td>\n      <td>613</td>\n      <td>54990</td>\n    </tr>\n    <tr>\n      <th>3914</th>\n      <td>Lotus</td>\n      <td>Elise</td>\n      <td>2009</td>\n      <td>premium unleaded (required)</td>\n      <td>189.0</td>\n      <td>4.0</td>\n      <td>MANUAL</td>\n      <td>rear wheel drive</td>\n      <td>2.0</td>\n      <td>Exotic,High-Performance</td>\n      <td>Compact</td>\n      <td>Convertible</td>\n      <td>27</td>\n      <td>21</td>\n      <td>613</td>\n      <td>47250</td>\n    </tr>\n    <tr>\n      <th>3915</th>\n      <td>Lotus</td>\n      <td>Elise</td>\n      <td>2010</td>\n      <td>premium unleaded (required)</td>\n      <td>189.0</td>\n      <td>4.0</td>\n      <td>MANUAL</td>\n      <td>rear wheel drive</td>\n      <td>2.0</td>\n      <td>Exotic,High-Performance</td>\n      <td>Compact</td>\n      <td>Convertible</td>\n      <td>27</td>\n      <td>21</td>\n      <td>613</td>\n      <td>47250</td>\n    </tr>\n    <tr>\n      <th>3916</th>\n      <td>Lotus</td>\n      <td>Elise</td>\n      <td>2010</td>\n      <td>premium unleaded (required)</td>\n      <td>218.0</td>\n      <td>4.0</td>\n      <td>MANUAL</td>\n      <td>rear wheel drive</td>\n      <td>2.0</td>\n      <td>Exotic,High-Performance</td>\n      <td>Compact</td>\n      <td>Convertible</td>\n      <td>26</td>\n      <td>20</td>\n      <td>613</td>\n      <td>54990</td>\n    </tr>\n    <tr>\n      <th>3917</th>\n      <td>Lotus</td>\n      <td>Elise</td>\n      <td>2011</td>\n      <td>premium unleaded (required)</td>\n      <td>189.0</td>\n      <td>4.0</td>\n      <td>MANUAL</td>\n      <td>rear wheel drive</td>\n      <td>2.0</td>\n      <td>Exotic,High-Performance</td>\n      <td>Compact</td>\n      <td>Convertible</td>\n      <td>27</td>\n      <td>21</td>\n      <td>613</td>\n      <td>51845</td>\n    </tr>\n    <tr>\n      <th>3918</th>\n      <td>Lotus</td>\n      <td>Elise</td>\n      <td>2011</td>\n      <td>premium unleaded (required)</td>\n      <td>217.0</td>\n      <td>4.0</td>\n      <td>MANUAL</td>\n      <td>rear wheel drive</td>\n      <td>2.0</td>\n      <td>Exotic,High-Performance</td>\n      <td>Compact</td>\n      <td>Convertible</td>\n      <td>26</td>\n      <td>20</td>\n      <td>613</td>\n      <td>54990</td>\n    </tr>\n    <tr>\n      <th>3919</th>\n      <td>Lotus</td>\n      <td>Elise</td>\n      <td>2011</td>\n      <td>premium unleaded (required)</td>\n      <td>217.0</td>\n      <td>4.0</td>\n      <td>MANUAL</td>\n      <td>rear wheel drive</td>\n      <td>2.0</td>\n      <td>Exotic,High-Performance</td>\n      <td>Compact</td>\n      <td>Convertible</td>\n      <td>26</td>\n      <td>20</td>\n      <td>613</td>\n      <td>57950</td>\n    </tr>\n    <tr>\n      <th>4216</th>\n      <td>Lotus</td>\n      <td>Esprit</td>\n      <td>2002</td>\n      <td>premium unleaded (required)</td>\n      <td>350.0</td>\n      <td>8.0</td>\n      <td>MANUAL</td>\n      <td>rear wheel drive</td>\n      <td>2.0</td>\n      <td>Exotic,High-Performance</td>\n      <td>Compact</td>\n      <td>Coupe</td>\n      <td>21</td>\n      <td>14</td>\n      <td>613</td>\n      <td>89825</td>\n    </tr>\n    <tr>\n      <th>4217</th>\n      <td>Lotus</td>\n      <td>Esprit</td>\n      <td>2003</td>\n      <td>premium unleaded (required)</td>\n      <td>350.0</td>\n      <td>8.0</td>\n      <td>MANUAL</td>\n      <td>rear wheel drive</td>\n      <td>2.0</td>\n      <td>Exotic,High-Performance</td>\n      <td>Compact</td>\n      <td>Coupe</td>\n      <td>21</td>\n      <td>14</td>\n      <td>613</td>\n      <td>90825</td>\n    </tr>\n    <tr>\n      <th>4218</th>\n      <td>Lotus</td>\n      <td>Esprit</td>\n      <td>2004</td>\n      <td>premium unleaded (required)</td>\n      <td>350.0</td>\n      <td>8.0</td>\n      <td>MANUAL</td>\n      <td>rear wheel drive</td>\n      <td>2.0</td>\n      <td>Exotic,High-Performance</td>\n      <td>Compact</td>\n      <td>Coupe</td>\n      <td>21</td>\n      <td>14</td>\n      <td>613</td>\n      <td>93225</td>\n    </tr>\n    <tr>\n      <th>4257</th>\n      <td>Lotus</td>\n      <td>Evora 400</td>\n      <td>2017</td>\n      <td>premium unleaded (required)</td>\n      <td>400.0</td>\n      <td>6.0</td>\n      <td>MANUAL</td>\n      <td>rear wheel drive</td>\n      <td>2.0</td>\n      <td>Exotic,High-Performance</td>\n      <td>Compact</td>\n      <td>Coupe</td>\n      <td>39</td>\n      <td>21</td>\n      <td>613</td>\n      <td>91900</td>\n    </tr>\n    <tr>\n      <th>4258</th>\n      <td>Lotus</td>\n      <td>Evora 400</td>\n      <td>2017</td>\n      <td>premium unleaded (required)</td>\n      <td>400.0</td>\n      <td>6.0</td>\n      <td>MANUAL</td>\n      <td>rear wheel drive</td>\n      <td>2.0</td>\n      <td>Exotic,High-Performance</td>\n      <td>Compact</td>\n      <td>Coupe</td>\n      <td>39</td>\n      <td>21</td>\n      <td>613</td>\n      <td>91900</td>\n    </tr>\n    <tr>\n      <th>4259</th>\n      <td>Lotus</td>\n      <td>Evora</td>\n      <td>2011</td>\n      <td>premium unleaded (required)</td>\n      <td>276.0</td>\n      <td>6.0</td>\n      <td>MANUAL</td>\n      <td>rear wheel drive</td>\n      <td>2.0</td>\n      <td>Exotic,High-Performance</td>\n      <td>Compact</td>\n      <td>Coupe</td>\n      <td>27</td>\n      <td>18</td>\n      <td>613</td>\n      <td>64000</td>\n    </tr>\n    <tr>\n      <th>4260</th>\n      <td>Lotus</td>\n      <td>Evora</td>\n      <td>2011</td>\n      <td>premium unleaded (required)</td>\n      <td>276.0</td>\n      <td>6.0</td>\n      <td>MANUAL</td>\n      <td>rear wheel drive</td>\n      <td>2.0</td>\n      <td>Exotic,High-Performance</td>\n      <td>Compact</td>\n      <td>Coupe</td>\n      <td>26</td>\n      <td>18</td>\n      <td>613</td>\n      <td>65500</td>\n    </tr>\n    <tr>\n      <th>4261</th>\n      <td>Lotus</td>\n      <td>Evora</td>\n      <td>2013</td>\n      <td>premium unleaded (required)</td>\n      <td>276.0</td>\n      <td>6.0</td>\n      <td>MANUAL</td>\n      <td>rear wheel drive</td>\n      <td>2.0</td>\n      <td>Exotic,High-Performance</td>\n      <td>Compact</td>\n      <td>Coupe</td>\n      <td>26</td>\n      <td>18</td>\n      <td>613</td>\n      <td>66800</td>\n    </tr>\n    <tr>\n      <th>4262</th>\n      <td>Lotus</td>\n      <td>Evora</td>\n      <td>2013</td>\n      <td>premium unleaded (required)</td>\n      <td>345.0</td>\n      <td>6.0</td>\n      <td>MANUAL</td>\n      <td>rear wheel drive</td>\n      <td>2.0</td>\n      <td>Exotic,High-Performance</td>\n      <td>Compact</td>\n      <td>Coupe</td>\n      <td>26</td>\n      <td>17</td>\n      <td>613</td>\n      <td>77100</td>\n    </tr>\n    <tr>\n      <th>4263</th>\n      <td>Lotus</td>\n      <td>Evora</td>\n      <td>2013</td>\n      <td>premium unleaded (required)</td>\n      <td>345.0</td>\n      <td>6.0</td>\n      <td>MANUAL</td>\n      <td>rear wheel drive</td>\n      <td>2.0</td>\n      <td>Exotic,High-Performance</td>\n      <td>Compact</td>\n      <td>Coupe</td>\n      <td>26</td>\n      <td>17</td>\n      <td>613</td>\n      <td>78600</td>\n    </tr>\n    <tr>\n      <th>4264</th>\n      <td>Lotus</td>\n      <td>Evora</td>\n      <td>2013</td>\n      <td>premium unleaded (required)</td>\n      <td>276.0</td>\n      <td>6.0</td>\n      <td>MANUAL</td>\n      <td>rear wheel drive</td>\n      <td>2.0</td>\n      <td>Exotic,High-Performance</td>\n      <td>Compact</td>\n      <td>Coupe</td>\n      <td>26</td>\n      <td>18</td>\n      <td>613</td>\n      <td>68300</td>\n    </tr>\n    <tr>\n      <th>4265</th>\n      <td>Lotus</td>\n      <td>Evora</td>\n      <td>2014</td>\n      <td>premium unleaded (required)</td>\n      <td>345.0</td>\n      <td>6.0</td>\n      <td>MANUAL</td>\n      <td>rear wheel drive</td>\n      <td>2.0</td>\n      <td>Exotic,High-Performance</td>\n      <td>Compact</td>\n      <td>Coupe</td>\n      <td>26</td>\n      <td>17</td>\n      <td>613</td>\n      <td>78750</td>\n    </tr>\n    <tr>\n      <th>4266</th>\n      <td>Lotus</td>\n      <td>Evora</td>\n      <td>2014</td>\n      <td>premium unleaded (required)</td>\n      <td>276.0</td>\n      <td>6.0</td>\n      <td>MANUAL</td>\n      <td>rear wheel drive</td>\n      <td>2.0</td>\n      <td>Exotic,High-Performance</td>\n      <td>Compact</td>\n      <td>Coupe</td>\n      <td>26</td>\n      <td>18</td>\n      <td>613</td>\n      <td>68750</td>\n    </tr>\n    <tr>\n      <th>4267</th>\n      <td>Lotus</td>\n      <td>Evora</td>\n      <td>2014</td>\n      <td>premium unleaded (required)</td>\n      <td>345.0</td>\n      <td>6.0</td>\n      <td>MANUAL</td>\n      <td>rear wheel drive</td>\n      <td>2.0</td>\n      <td>Exotic,High-Performance</td>\n      <td>Compact</td>\n      <td>Coupe</td>\n      <td>26</td>\n      <td>17</td>\n      <td>613</td>\n      <td>79980</td>\n    </tr>\n    <tr>\n      <th>4268</th>\n      <td>Lotus</td>\n      <td>Evora</td>\n      <td>2014</td>\n      <td>premium unleaded (required)</td>\n      <td>276.0</td>\n      <td>6.0</td>\n      <td>MANUAL</td>\n      <td>rear wheel drive</td>\n      <td>2.0</td>\n      <td>Exotic,High-Performance</td>\n      <td>Compact</td>\n      <td>Coupe</td>\n      <td>26</td>\n      <td>18</td>\n      <td>613</td>\n      <td>69980</td>\n    </tr>\n    <tr>\n      <th>4292</th>\n      <td>Lotus</td>\n      <td>Exige</td>\n      <td>2009</td>\n      <td>premium unleaded (recommended)</td>\n      <td>257.0</td>\n      <td>4.0</td>\n      <td>MANUAL</td>\n      <td>rear wheel drive</td>\n      <td>2.0</td>\n      <td>Exotic,High-Performance</td>\n      <td>Compact</td>\n      <td>Coupe</td>\n      <td>26</td>\n      <td>20</td>\n      <td>613</td>\n      <td>74995</td>\n    </tr>\n    <tr>\n      <th>4293</th>\n      <td>Lotus</td>\n      <td>Exige</td>\n      <td>2009</td>\n      <td>premium unleaded (recommended)</td>\n      <td>240.0</td>\n      <td>4.0</td>\n      <td>MANUAL</td>\n      <td>rear wheel drive</td>\n      <td>2.0</td>\n      <td>Exotic,High-Performance</td>\n      <td>Compact</td>\n      <td>Coupe</td>\n      <td>26</td>\n      <td>20</td>\n      <td>613</td>\n      <td>65690</td>\n    </tr>\n    <tr>\n      <th>4294</th>\n      <td>Lotus</td>\n      <td>Exige</td>\n      <td>2010</td>\n      <td>premium unleaded (recommended)</td>\n      <td>240.0</td>\n      <td>4.0</td>\n      <td>MANUAL</td>\n      <td>rear wheel drive</td>\n      <td>2.0</td>\n      <td>Exotic,High-Performance</td>\n      <td>Compact</td>\n      <td>Coupe</td>\n      <td>26</td>\n      <td>20</td>\n      <td>613</td>\n      <td>65690</td>\n    </tr>\n    <tr>\n      <th>4295</th>\n      <td>Lotus</td>\n      <td>Exige</td>\n      <td>2011</td>\n      <td>premium unleaded (recommended)</td>\n      <td>240.0</td>\n      <td>4.0</td>\n      <td>MANUAL</td>\n      <td>rear wheel drive</td>\n      <td>2.0</td>\n      <td>Exotic,High-Performance</td>\n      <td>Compact</td>\n      <td>Coupe</td>\n      <td>26</td>\n      <td>20</td>\n      <td>613</td>\n      <td>65690</td>\n    </tr>\n    <tr>\n      <th>4296</th>\n      <td>Lotus</td>\n      <td>Exige</td>\n      <td>2011</td>\n      <td>premium unleaded (recommended)</td>\n      <td>257.0</td>\n      <td>4.0</td>\n      <td>MANUAL</td>\n      <td>rear wheel drive</td>\n      <td>2.0</td>\n      <td>Exotic,High-Performance</td>\n      <td>Compact</td>\n      <td>Coupe</td>\n      <td>26</td>\n      <td>20</td>\n      <td>613</td>\n      <td>70750</td>\n    </tr>\n    <tr>\n      <th>4297</th>\n      <td>Lotus</td>\n      <td>Exige</td>\n      <td>2011</td>\n      <td>premium unleaded (recommended)</td>\n      <td>257.0</td>\n      <td>4.0</td>\n      <td>MANUAL</td>\n      <td>rear wheel drive</td>\n      <td>2.0</td>\n      <td>Exotic,High-Performance</td>\n      <td>Compact</td>\n      <td>Coupe</td>\n      <td>26</td>\n      <td>20</td>\n      <td>613</td>\n      <td>74950</td>\n    </tr>\n  </tbody>\n</table>\n</div>"
     },
     "execution_count": 63,
     "metadata": {},
     "output_type": "execute_result"
    }
   ],
   "source": [
    "df_lotus = data[data['Make'] == 'Lotus']\n",
    "df_lotus"
   ],
   "metadata": {
    "collapsed": false
   }
  },
  {
   "cell_type": "code",
   "execution_count": 64,
   "outputs": [
    {
     "data": {
      "text/plain": "      Engine HP  Engine Cylinders\n3912      189.0               4.0\n3913      218.0               4.0\n3918      217.0               4.0\n4216      350.0               8.0\n4257      400.0               6.0\n4259      276.0               6.0\n4262      345.0               6.0\n4292      257.0               4.0\n4293      240.0               4.0",
      "text/html": "<div>\n<style scoped>\n    .dataframe tbody tr th:only-of-type {\n        vertical-align: middle;\n    }\n\n    .dataframe tbody tr th {\n        vertical-align: top;\n    }\n\n    .dataframe thead th {\n        text-align: right;\n    }\n</style>\n<table border=\"1\" class=\"dataframe\">\n  <thead>\n    <tr style=\"text-align: right;\">\n      <th></th>\n      <th>Engine HP</th>\n      <th>Engine Cylinders</th>\n    </tr>\n  </thead>\n  <tbody>\n    <tr>\n      <th>3912</th>\n      <td>189.0</td>\n      <td>4.0</td>\n    </tr>\n    <tr>\n      <th>3913</th>\n      <td>218.0</td>\n      <td>4.0</td>\n    </tr>\n    <tr>\n      <th>3918</th>\n      <td>217.0</td>\n      <td>4.0</td>\n    </tr>\n    <tr>\n      <th>4216</th>\n      <td>350.0</td>\n      <td>8.0</td>\n    </tr>\n    <tr>\n      <th>4257</th>\n      <td>400.0</td>\n      <td>6.0</td>\n    </tr>\n    <tr>\n      <th>4259</th>\n      <td>276.0</td>\n      <td>6.0</td>\n    </tr>\n    <tr>\n      <th>4262</th>\n      <td>345.0</td>\n      <td>6.0</td>\n    </tr>\n    <tr>\n      <th>4292</th>\n      <td>257.0</td>\n      <td>4.0</td>\n    </tr>\n    <tr>\n      <th>4293</th>\n      <td>240.0</td>\n      <td>4.0</td>\n    </tr>\n  </tbody>\n</table>\n</div>"
     },
     "execution_count": 64,
     "metadata": {},
     "output_type": "execute_result"
    }
   ],
   "source": [
    "df_lotus = df_lotus[[\"Engine HP\", \"Engine Cylinders\"]].drop_duplicates()\n",
    "df_lotus"
   ],
   "metadata": {
    "collapsed": false
   }
  },
  {
   "cell_type": "code",
   "execution_count": 65,
   "outputs": [
    {
     "data": {
      "text/plain": "array([[ 5.53084235e-05, -2.94319825e-03],\n       [-2.94319825e-03,  1.60588447e-01]])"
     },
     "execution_count": 65,
     "metadata": {},
     "output_type": "execute_result"
    }
   ],
   "source": [
    "X = df_lotus.to_numpy()\n",
    "XTX = X.T @ X\n",
    "XTX_inv = np.linalg.inv(XTX)\n",
    "XTX_inv"
   ],
   "metadata": {
    "collapsed": false
   }
  },
  {
   "cell_type": "code",
   "execution_count": 66,
   "outputs": [],
   "source": [
    "y = np.array([1100, 800, 750, 850, 1300, 1000, 1000, 1300, 800])"
   ],
   "metadata": {
    "collapsed": false
   }
  },
  {
   "cell_type": "code",
   "execution_count": 67,
   "outputs": [],
   "source": [
    "w = (XTX_inv @ X.T) @ y"
   ],
   "metadata": {
    "collapsed": false
   }
  },
  {
   "cell_type": "code",
   "execution_count": 68,
   "outputs": [
    {
     "data": {
      "text/plain": "4.594944810094579"
     },
     "execution_count": 68,
     "metadata": {},
     "output_type": "execute_result"
    }
   ],
   "source": [
    "w[0]"
   ],
   "metadata": {
    "collapsed": false
   }
  },
  {
   "cell_type": "markdown",
   "source": [
    "> **Note**: we just implemented normal equation\n",
    "\n",
    "\n",
    "$$w = (X^T X)^{-1} X^T y$$\n",
    "\n",
    "\n",
    "We'll talk about it more in the next week (Machine Learning for Regression)"
   ],
   "metadata": {
    "collapsed": false
   }
  }
 ],
 "metadata": {
  "kernelspec": {
   "display_name": "Python 3 (ipykernel)",
   "language": "python",
   "name": "python3"
  },
  "language_info": {
   "codemirror_mode": {
    "name": "ipython",
    "version": 3
   },
   "file_extension": ".py",
   "mimetype": "text/x-python",
   "name": "python",
   "nbconvert_exporter": "python",
   "pygments_lexer": "ipython3",
   "version": "3.8.10"
  },
  "colab": {
   "provenance": [],
   "collapsed_sections": []
  }
 },
 "nbformat": 4,
 "nbformat_minor": 5
}
